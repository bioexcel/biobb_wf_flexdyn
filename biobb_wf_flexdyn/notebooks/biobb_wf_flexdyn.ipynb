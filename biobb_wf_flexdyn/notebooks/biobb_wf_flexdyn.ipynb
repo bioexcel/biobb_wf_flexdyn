{
 "cells": [
  {
   "cell_type": "markdown",
   "metadata": {},
   "source": [
    "# Conformational ensembles generation, data representation and visualization of predicted flexibility properties using BioExcel Building Blocks (biobb) and FlexDyn tools\n",
    "\n",
    "## Workflow included in the [ELIXIR 3D-Bioinfo](https://elixir-europe.org/communities/3d-bioinfo) Implementation Study:\n",
    "\n",
    "### _Building on PDBe-KB to chart and characterize the conformation landscape of native proteins_\n",
    "\n",
    "***\n",
    "\n",
    "This tutorial aims to illustrate the process of generating **protein conformational ensembles** from **3D structures** and analysing its **molecular flexibility**, step by step, using the **BioExcel Building Blocks library (biobb)**. \n",
    "\n",
    "## Conformational landscape of native proteins\n",
    "\n",
    "**Proteins** are **dynamic** systems that adopt multiple **conformational states**, a property essential for many **biological processes** (e.g. binding other proteins, nucleic acids, small molecule ligands, or switching between functionaly active and inactive states). Characterizing the different **conformational states** of proteins and the transitions between them is therefore critical for gaining insight into their **biological function** and can help explain the effects of genetic variants in **health** and **disease** and the action of drugs.\n",
    "\n",
    "**Structural biology** has become increasingly efficient in sampling the different **conformational states** of proteins. The **PDB** has currently archived more than **170,000 individual structures**, but over two thirds of these structures represent **multiple conformations** of the same or related protein, observed in different crystal forms, when interacting with other proteins or other macromolecules, or upon binding small molecule ligands. Charting this conformational diversity across the PDB can therefore be employed to build a useful approximation of the **conformational landscape** of native proteins.\n",
    "\n",
    "A number of resources and **tools** describing and characterizing various often complementary aspects of protein **conformational diversity** in known structures have been developed, notably by groups in Europe. These tools include algorithms with varying degree of sophistication, for aligning the 3D structures of individual protein chains or domains, of protein assemblies, and evaluating their degree of **structural similarity**. Using such tools one can **align structures pairwise**, compute the corresponding **similarity matrix**, and identify ensembles of **structures/conformations** with a defined **similarity level** that tend to recur in different PDB entries, an operation typically performed using **clustering** methods. Such workflows are at the basis of resources such as **CATH, Contemplate, or PDBflex** that offer access to **conformational ensembles** comprised of similar **conformations** clustered according to various criteria. Other types of tools focus on differences between **protein conformations**, identifying regions of proteins that undergo large **collective displacements** in different PDB entries, those that act as **hinges or linkers**, or regions that are inherently **flexible**.\n",
    "\n",
    "To build a meaningful approximation of the **conformational landscape** of native proteins, the **conformational ensembles** (and the differences between them), identified on the basis of **structural similarity/dissimilarity** measures alone, need to be **biophysically characterized**. This may be approached at **two different levels**. \n",
    "- At the **biological level**, it is important to link observed **conformational ensembles**, to their **functional roles** by evaluating the correspondence with **protein family classifications** based on sequence information and **functional annotations** in public databases e.g. Uniprot, PDKe-Knowledge Base (KB). These links should provide valuable mechanistic insights into how the **conformational and dynamic properties** of proteins are exploited by evolution to regulate their **biological function**. <br><br>\n",
    "\n",
    "- At the **physical level** one needs to introduce **energetic consideration** to evaluate the likelihood that the identified **conformational ensembles** represent **conformational states** that the protein (or domain under study) samples in isolation. Such evaluation is notoriously **challenging** and can only be roughly approximated by using **computational methods** to evaluate the extent to which the observed **conformational ensembles** can be reproduced by algorithms that simulate the **dynamic behavior** of protein systems. These algorithms include the computationally expensive **classical molecular dynamics (MD) simulations** to sample local thermal fluctuations but also faster more approximate methods such as **Elastic Network Models** and **Normal Node Analysis** (NMA) to model low energy **collective motions**. Alternatively, **enhanced sampling molecular dynamics** can be used to model complex types of **conformational changes** but at a very high computational cost. \n",
    "\n",
    "The **ELIXIR 3D-Bioinfo Implementation Study** *Building on PDBe-KB to chart and characterize the conformation landscape of native proteins* focuses on:\n",
    "\n",
    "1. Mapping the **conformational diversity** of proteins and their homologs across the PDB. \n",
    "2. Characterize the different **flexibility properties** of protein regions, and link this information to sequence and functional annotation.\n",
    "3. Benchmark **computational methods** that can predict a biophysical description of protein motions.\n",
    "\n",
    "This notebook is part of the third objective, where a list of **computational resources** that are able to predict **protein flexibility** and **conformational ensembles** have been collected, evaluated, and integrated in reproducible and interoperable workflows using the **BioExcel Building Blocks library**. Note that the list is not meant to be exhaustive, it is built following the expertise of the implementation study partners.\n",
    "\n",
    "The list of the selected **tools** is given in the following table, classified based on the underlying **theoretical methods types**, and presented together with the corresponding publication DOIs and URLs:\n",
    "\n",
    "\n",
    "| Tool | URL | Reference | Conda | Type\n",
    "| :-: | :-: | :-: | :-: | :-: |\n",
    "| **Concoord** | [URL](https://www3.mpibpc.mpg.de/groups/de_groot/concoord/concoord.html)| [Reference](https://doi.org/10.1002/(sici)1097-0134(199710)29:2%3C240::aid-prot11%3E3.0.co;2-o) | [Conda](https://anaconda.org/bioconda/concoord) | Atomistic intra-molecular interactions |\n",
    "| **ProDy** | [URL](https://prody.csb.pitt.edu/) | [Reference](https://doi.org/10.1093/bioinformatics/btab187) | [Conda](https://anaconda.org/conda-forge/prody) | Vibrational Analysis\n",
    "| **FlexServ** | [URL](https://mmb.irbbarcelona.org/FlexServ/) | [Reference](https://doi.org/10.1093/bioinformatics/btp304) | [Conda](https://anaconda.org/bioconda/flexserv) | Vibrational Analysis, Coarse-Grained MD\n",
    "| | | | | |\n",
    "| **NOLB** | [URL](https://team.inria.fr/nano-d/software/nolb-normal-modes) | [Reference](https://doi.org/10.1101/2020.12.31.424963) | [Conda](https://anaconda.org/bioconda/nolb) | Vibrational Analysis, Atomistic intra-molecular interactions\n",
    "| **iMod** | [URL](https://imods.chaconlab.org/) | [Reference](https://doi.org/10.1093/nar/gku339) | [Conda](https://anaconda.org/bioconda/imods) | Vibrational Analysis, Atomistic intra-molecular interactions\n",
    "\n",
    "where the **theoretical methods types** are:\n",
    "\n",
    "* **Vibrational analysis**: \n",
    "Tools computing the vibrational normal modes of protein three-dimensional structures, taking as input PDB or mmCIF files. The movements associated with the vibrational modes (i.e. the eigenvectors) are known to be good descriptors of proteins dynamics, and of their flexibility. The type of output delivered by the different modes varies from protein motions to conformational ensembles.\n",
    "\n",
    "\n",
    "* **Coarse-grained molecular simulations**: \n",
    "Tools in this category make use of coarse-grained representations of the proteins and of molecular simulation techniques to generate conformational ensembles.   \n",
    "\n",
    "\n",
    "* **Atomistic intra-molecular interactions**: \n",
    "Such tools make use of a potential to represent intra-molecular interactions and predict likely conformational changes in a protein structure.\n",
    "\n",
    "The notebook is divided in two main blocks:\n",
    "\n",
    "* **Conformational ensemble generation**: where the different selected methods are used to build **conformational ensembles** that are then visualized using the NGL viewer.\n",
    "* **Macromolecular flexibility analysis**: where the generated ensembles are analysed to extract **flexibility properties** that will be used in subsequent comparisons with the **conformational diversity** and **flexiblity** observed in the **PDB database**. \n",
    "\n",
    "***\n",
    "\n",
    "## Settings\n",
    "\n",
    "### Biobb modules used\n",
    "\n",
    " - [biobb_flexserv](https://github.com/bioexcel/biobb_flexserv): Tools to compute biomolecular flexibility on protein 3D structures.\n",
    " - [biobb_flexdyn](https://github.com/bioexcel/biobb_flexdyn): Tools to study the conformational landscape of native proteins.\n",
    " - [biobb_io](https://github.com/bioexcel/biobb_io): Tools to fetch biomolecular data from public databases.\n",
    " - [biobb_structure_utils](https://github.com/bioexcel/biobb_structure_utils): Tools to modify or extract information from a PDB structure.\n",
    " - [biobb_analysis](https://github.com/bioexcel/biobb_analysis): Tools to analyse Molecular Dynamics trajectories.\n",
    " - [biobb_gromacs](https://github.com/bioexcel/biobb_gromacs): Tools to setup and run Molecular Dynamics simulations with GROMACS MD package.\n",
    "  \n",
    "### Auxiliar libraries used\n",
    "\n",
    "* [jupyter](https://jupyter.org/): Free software, open standards, and web services for interactive computing across all programming languages.\n",
    "* [plotly](https://plot.ly/python/offline/): Python interactive graphing library integrated in Jupyter notebooks.\n",
    "* [nglview](https://nglviewer.org/#nglview): Jupyter/IPython widget to interactively view molecular structures and trajectories in notebooks.\n",
    "* [simpletraj](https://github.com/arose/simpletraj): Lightweight coordinate-only trajectory reader based on code from GROMACS, MDAnalysis and VMD.\n",
    "* [pandas](https://pandas.pydata.org/): Open source data analysis and manipulation tool, built on top of the Python programming language.\n",
    "\n",
    "### Conda Installation and Launch\n",
    "\n",
    "```console\n",
    "git clone https://github.com/bioexcel/biobb_wf_flexdyn.git\n",
    "cd biobb_wf_flexdyn\n",
    "conda env create -f conda_env/environment.yml\n",
    "conda activate biobb_wf_flexdyn\n",
    "jupyter-notebook biobb_wf_flexdyn/notebooks/biobb_wf_flexdyn.ipynb\n",
    "``` \n",
    "\n",
    "***\n",
    "## Pipeline steps\n",
    " 1. [Input Parameters](#input)\n",
    " 2. [Fetching PDB structure](#fetch)\n",
    " 3. [Conformational Ensemble Generation](#ensemble)\n",
    "  1. [CONCOORD](#concoord)\n",
    "  2. [PRODY](#prody)\n",
    "  3. [FLEXSERV](#flexserv)\n",
    "       1. [Brownian Dynamics (BD)](#bd)\n",
    "       2. [Discrete Molecular Dynamics (DMD)](#dmd)\n",
    "       3. [Normal Model Analysis (NMA)](#nma)\n",
    "  4. [NOLB](#nolb)\n",
    "  5. [iMOD](#imod)\n",
    " 4. [Meta-trajectory & Clustering](#metatraj)  \n",
    " 5. [Macromolecular Flexibility Analyses](#flexibility)\n",
    "  1. [Principal Component Analysis](#pca)\n",
    "  2. [B-Factor x Principal Components](#bfactor)\n",
    "  3. [Hinge Points Prediction](#hinges)\n",
    "  4. [Apparent Stiffness](#stiffness)\n",
    "  5. [Collectivity index](#collectivity)\n",
    " \n",
    "\n",
    "***\n",
    "<table>\n",
    "    <tr style=\"background: white;\"><td>\n",
    "        <img src=\"https://bioexcel.eu/wp-content/uploads/2019/04/Bioexcell_logo_1080px_transp.png\" alt=\"Bioexcel2 logo\"\n",
    "            title=\"Bioexcel logo\" width=\"400\" />\n",
    "    </td>\n",
    "        <td style=\"width: 100px;\"></td>\n",
    "    <td>\n",
    "        <img src=\"https://cdn.eventscase.com/elixirevents.eventscase.com/uploads/users/711598/uploads/d0c5cffb09bfcac4df9bea35a8bc66bc225bf1a59701eb40a86d0449c81671cfc9cbb1163a5bc53d2dbd89a2e16bc4c0cb7d.610bafb9be1e9.png\" alt=\"3D-Bioinfo logo\"\n",
    "            title=\"3D-Bioinfo logo\" width=\"250\" />\n",
    "    </td></tr>\n",
    "</table>\n",
    "\n",
    "\n",
    "***"
   ]
  },
  {
   "cell_type": "markdown",
   "metadata": {},
   "source": [
    "<a id=\"input\"></a>\n",
    "## Input parameters\n",
    "**Input parameters** needed:\n",
    "\n",
    " - **Auxiliar libraries**: Libraries to be used in the workflow are imported once at the beginning\n",
    "<br><br>\n",
    " - **pdbCode**: PDB code of the protein structure (e.g. 1AKE)"
   ]
  },
  {
   "cell_type": "code",
   "execution_count": null,
   "metadata": {},
   "outputs": [],
   "source": [
    "import os\n",
    "import nglview\n",
    "import simpletraj\n",
    "import plotly\n",
    "import plotly.graph_objs as go\n",
    "import numpy as np\n",
    "import pandas as pd\n",
    "import ipywidgets\n",
    "import json\n",
    "import zipfile\n",
    "from IPython.display import display, Markdown\n",
    "\n",
    "pdbCode = \"1ake\"\n",
    "num_frames = 300"
   ]
  },
  {
   "cell_type": "markdown",
   "metadata": {},
   "source": [
    "<a id=\"fetch\"></a>\n",
    "***\n",
    "## Fetching PDB structure\n",
    "Downloading **PDB structure** with the **protein molecule** from the RCSB PDB database.<br>\n",
    "Alternatively, a **PDB file** can be used as starting structure. <br>\n",
    "***\n",
    "**Building Blocks** used:\n",
    " - [Pdb](https://biobb-io.readthedocs.io/en/latest/api.html#module-api.pdb) from **biobb_io.api.pdb**\n",
    "***"
   ]
  },
  {
   "cell_type": "code",
   "execution_count": null,
   "metadata": {},
   "outputs": [],
   "source": [
    "# Downloading desired PDB file \n",
    "# Import module\n",
    "from biobb_io.api.pdb import pdb\n",
    "\n",
    "# Create properties dict and inputs/outputs\n",
    "downloaded_pdb = pdbCode+'.pdb'\n",
    "\n",
    "prop = {\n",
    "    'pdb_code': pdbCode,\n",
    "    'api_id' : 'mmb'\n",
    "}\n",
    "\n",
    "#Create and launch bb\n",
    "pdb(output_pdb_path=downloaded_pdb,\n",
    "    properties=prop)"
   ]
  },
  {
   "cell_type": "markdown",
   "metadata": {},
   "source": [
    "***\n",
    "### Selecting a model\n",
    "If needed, select a single **model** from the **PDB file**. <br>\n",
    "***\n",
    "**Building Blocks** used:\n",
    " - [extract_model](https://biobb-structure-utils.readthedocs.io/en/latest/utils.html#module-utils.extract_model) from **biobb_structure_utils.utils.extract_model**\n",
    "***"
   ]
  },
  {
   "cell_type": "code",
   "execution_count": null,
   "metadata": {
    "scrolled": true
   },
   "outputs": [],
   "source": [
    "from biobb_structure_utils.utils.extract_model import extract_model\n",
    "\n",
    "pdb_model = pdbCode+'_model.pdb'\n",
    "\n",
    "prop = {\n",
    "    'models': [ 1 ]\n",
    "}\n",
    "\n",
    "extract_model(input_structure_path=downloaded_pdb,\n",
    "              output_structure_path=pdb_model,\n",
    "              properties=prop)"
   ]
  },
  {
   "cell_type": "markdown",
   "metadata": {},
   "source": [
    "***\n",
    "### Selecting a monomer\n",
    "If needed, select a single **monomer** (chain) from the **PDB file**. <br>\n",
    "***\n",
    "**Building Blocks** used:\n",
    " - [extract_chain](https://biobb-structure-utils.readthedocs.io/en/latest/utils.html#module-utils.extract_chain) from **biobb_structure_utils.utils.extract_chain**\n",
    "***"
   ]
  },
  {
   "cell_type": "code",
   "execution_count": null,
   "metadata": {
    "scrolled": true
   },
   "outputs": [],
   "source": [
    "from biobb_structure_utils.utils.extract_chain import extract_chain\n",
    "\n",
    "monomer = pdbCode+'_monomer.pdb'\n",
    "\n",
    "prop = {\n",
    "    'chains': [ 'A' ]\n",
    "}\n",
    "\n",
    "extract_chain(input_structure_path=pdb_model,\n",
    "            output_structure_path=monomer,\n",
    "            properties=prop)"
   ]
  },
  {
   "cell_type": "markdown",
   "metadata": {},
   "source": [
    "***\n",
    "### Visualizing the protein\n",
    "***"
   ]
  },
  {
   "cell_type": "code",
   "execution_count": null,
   "metadata": {},
   "outputs": [],
   "source": [
    "# Show protein\n",
    "view = nglview.show_structure_file(monomer)\n",
    "view.add_representation(repr_type='ball+stick', selection='all')\n",
    "view._remote_call('setSize', target='Widget', args=['','600px'])\n",
    "view"
   ]
  },
  {
   "cell_type": "markdown",
   "metadata": {},
   "source": [
    "***\n",
    "### Generating the reduced (coarse-grained) structure (backbone)\n",
    "\n",
    "***\n",
    "**Building Blocks** used:\n",
    " - [cpptraj_mask](https://biobb-analysis.readthedocs.io/en/latest/ambertools.html#module-ambertools.cpptraj_mask) from **biobb_analysis.ambertools.cpptraj_mask**\n",
    "***"
   ]
  },
  {
   "cell_type": "code",
   "execution_count": null,
   "metadata": {
    "scrolled": true
   },
   "outputs": [],
   "source": [
    "from biobb_analysis.ambertools.cpptraj_mask import cpptraj_mask\n",
    "\n",
    "prot_backbone = pdbCode + \"_backbone.pdb\"\n",
    "\n",
    "prop = {\n",
    "    'mask': 'backbone',\n",
    "    'format': 'pdb'\n",
    "}\n",
    "\n",
    "cpptraj_mask(input_top_path=monomer,\n",
    "            input_traj_path=monomer,\n",
    "            output_cpptraj_path=prot_backbone,\n",
    "            properties=prop)\n"
   ]
  },
  {
   "cell_type": "markdown",
   "metadata": {},
   "source": [
    "***\n",
    "### Visualizing the protein\n",
    "***"
   ]
  },
  {
   "cell_type": "code",
   "execution_count": null,
   "metadata": {},
   "outputs": [],
   "source": [
    "# Show protein\n",
    "view = nglview.show_structure_file(prot_backbone)\n",
    "view.add_representation(repr_type='ball+stick', selection='all')\n",
    "view._remote_call('setSize', target='Widget', args=['','600px'])\n",
    "view"
   ]
  },
  {
   "cell_type": "markdown",
   "metadata": {},
   "source": [
    "***\n",
    "### Generating the reduced (coarse-grained) structure (alpha carbons)\n",
    "\n",
    "***\n",
    "**Building Blocks** used:\n",
    " - [cpptraj_mask](https://biobb-analysis.readthedocs.io/en/latest/ambertools.html#module-ambertools.cpptraj_mask) from **biobb_analysis.ambertools.cpptraj_mask**\n",
    "***"
   ]
  },
  {
   "cell_type": "code",
   "execution_count": null,
   "metadata": {
    "scrolled": true
   },
   "outputs": [],
   "source": [
    "from biobb_analysis.ambertools.cpptraj_mask import cpptraj_mask\n",
    "\n",
    "prot_ca = pdbCode + \"_ca.pdb\"\n",
    "\n",
    "prop = {\n",
    "    'mask': 'c-alpha',\n",
    "    'format': 'pdb'\n",
    "}\n",
    "\n",
    "cpptraj_mask(input_top_path=monomer,\n",
    "            input_traj_path=monomer,\n",
    "            output_cpptraj_path=prot_ca,\n",
    "            properties=prop)"
   ]
  },
  {
   "cell_type": "markdown",
   "metadata": {},
   "source": [
    "***\n",
    "### Visualizing the protein\n",
    "***"
   ]
  },
  {
   "cell_type": "code",
   "execution_count": null,
   "metadata": {},
   "outputs": [],
   "source": [
    "# Show protein\n",
    "view = nglview.show_structure_file(prot_ca)\n",
    "view.add_representation(repr_type='ball+stick', selection='all')\n",
    "view.center()\n",
    "view._remote_call('setSize', target='Widget', args=['','600px'])\n",
    "view"
   ]
  },
  {
   "cell_type": "markdown",
   "metadata": {},
   "source": [
    "<a id=\"ensemble\"></a>\n",
    "***\n",
    "## Conformational Ensemble Generation\n",
    "\n",
    "The next section is presenting a list of **computational resources** able to predict **protein flexibility** and **conformational ensembles** (the list is not meant to be exhaustive).\n",
    "\n",
    "The notebook is intended to give an overview of the tools and resources considered relevant for the **implementation study**, namely tools that can be used to **generate** or **characterize conformational ensembles of proteins**. "
   ]
  },
  {
   "cell_type": "markdown",
   "metadata": {},
   "source": [
    "<a id=\"concoord\"></a>\n",
    "***\n",
    "## CONCOORD\n",
    "\n",
    "**CONCOORD** is a method to generate **protein conformations** around a known structure based on **geometric restrictions**. **Principal component analyses** of **Molecular Dynamics** (MD) simulations of proteins have indicated that **collective degrees of freedom** dominate **protein conformational fluctuations**. These large-scale **collective motions** have been shown essential to **protein function** in a number of cases. The notion that **internal constraints** and other **configurational barriers** restrict **protein dynamics** to a limited number of **collective degrees of freedom** has led to the design of the **CONCOORD** method to predict these modes without doing explicit, more CPU intensive, **MD simulations**.\n",
    "\n",
    "The **CONCOORD** method consists of two stages: The first stage is the identification of all **interatomic interactions** in the starting structure. These interactions are divided among different categories, depending on the strength of the interaction. **Covalent bonds** form the **tightest interactions** and **long-range non-bonded interactions** are among the **weakest interactions**. Based on the strength of the interaction, a specific geometric freedom is given to each interacting pair. In this way, a set of **upper** and **lower geometric bounds** is obtained for all **interacting pairs of atoms**. The second stage consists of **generating structures** other than the starting structure that **fulfill all geometric bounds**. This is achieved by iteratively applying corrections to randomly generated coordinates untill all bounds are fulfilled.\n",
    "\n",
    "\n",
    "References: <br>\n",
    "\n",
    "**CONCOORD website**: https://www3.mpibpc.mpg.de/groups/de_groot/concoord/concoord.html\n",
    "\n",
    "**Prediction of Protein Conformational Freedom From Distance Constraints.**<br>\n",
    "*Proteins, 1997, 29(2):240-51.*<br>\n",
    "*Available at: https://doi.org/10.1002/(sici)1097-0134(199710)29:2%3C240::aid-prot11%3E3.0.co;2-o*\n",
    "\n",
    "\n",
    "***\n",
    "**Building Blocks** used:\n",
    " - [concoord_dist](https://biobb-flexdyn.readthedocs.io/en/latest/flexdyn.html#module-concoord.concoord_dist) from **biobb_flexdyn.concoord.concoord_dist**\n",
    " - [concoord_disco](https://biobb-flexdyn.readthedocs.io/en/latest/flexdyn.html#module-concoord.concoord_disco) from **biobb_flexdyn.concoord.concoord_disco**\n",
    "***"
   ]
  },
  {
   "cell_type": "code",
   "execution_count": null,
   "metadata": {
    "scrolled": true
   },
   "outputs": [],
   "source": [
    "from biobb_flexdyn.flexdyn.concoord_dist import concoord_dist\n",
    "\n",
    "concoord_dist_pdb = pdbCode + \"_dist.pdb\"\n",
    "concoord_dist_gro = pdbCode + \"_dist.gro\"\n",
    "concoord_dist_dat = pdbCode + \"_dist.dat\"\n",
    "\n",
    "concoord_lib = os.environ['CONDA_PREFIX']+\"/share/concoord/lib\"\n",
    "\n",
    "prop = {\n",
    "    'retain_hydrogens' : False,\n",
    "    'cutoff' : 4.0,\n",
    "    'env_vars_dict' : {\n",
    "        'CONCOORD_OVERWRITE' : '1',\n",
    "        'CONCOORDLIB' : concoord_lib\n",
    "    }\n",
    "}\n",
    "\n",
    "concoord_dist(  input_structure_path=monomer,\n",
    "                output_pdb_path=concoord_dist_pdb,\n",
    "                output_gro_path=concoord_dist_gro,\n",
    "                output_dat_path=concoord_dist_dat,\n",
    "                properties=prop)\n"
   ]
  },
  {
   "cell_type": "code",
   "execution_count": null,
   "metadata": {},
   "outputs": [],
   "source": [
    "from biobb_flexdyn.flexdyn.concoord_disco import concoord_disco\n",
    "\n",
    "concoord_disco_pdb = pdbCode + \"_disco_traj.pdb\"\n",
    "concoord_disco_rmsd = pdbCode + \"_disco_rmsd.dat\"\n",
    "concoord_disco_bfactor = pdbCode + \"_disco_bfactor.pdb\"\n",
    "\n",
    "concoord_lib = os.environ['CONDA_PREFIX']+\"/share/concoord/lib\"\n",
    "\n",
    "prop = {\n",
    "    'vdw' : 4,\n",
    "    'num_structs' : num_frames,\n",
    "    'env_vars_dict' : {\n",
    "        'CONCOORD_OVERWRITE' : '1',\n",
    "        'CONCOORDLIB' : concoord_lib\n",
    "    }\n",
    "}\n",
    "\n",
    "concoord_disco(     input_pdb_path=concoord_dist_pdb,\n",
    "                    input_dat_path=concoord_dist_dat,\n",
    "                    output_traj_path=concoord_disco_pdb,\n",
    "                    output_rmsd_path=concoord_disco_rmsd,\n",
    "                    output_bfactor_path=concoord_disco_bfactor,\n",
    "                    properties=prop)\n"
   ]
  },
  {
   "cell_type": "markdown",
   "metadata": {},
   "source": [
    "***\n",
    "### Visualizing the generated ensemble\n",
    "***"
   ]
  },
  {
   "cell_type": "code",
   "execution_count": null,
   "metadata": {},
   "outputs": [],
   "source": [
    "# Show protein (if num_frames <= 100)\n",
    "\n",
    "if (num_frames <= 100):\n",
    "    view = nglview.show_structure_file(concoord_disco_pdb, default_representation=False)\n",
    "    view.add_representation(repr_type='line', selection='all', color='modelindex')\n",
    "    view.center()\n",
    "    view._remote_call('setSize', target='Widget', args=['','600px'])\n",
    "    view\n",
    "else:\n",
    "    #print(\"Visualizing a multi-model PDB with > 100 frames is highly dangerous. Please use the trajectory visualization below.\")\n",
    "    display(Markdown('<div class=\"alert alert-info\">Visualizing a multi-model PDB with > 100 frames is highly dangerous. Please use the trajectory visualization below.</div>'))"
   ]
  },
  {
   "cell_type": "code",
   "execution_count": null,
   "metadata": {},
   "outputs": [],
   "source": [
    "    view = nglview.show_structure_file(concoord_disco_pdb, default_representation=False)\n",
    "    view.clear_representations()\n",
    "    view.add_representation(repr_type='backbone', selection='all', color='modelindex')\n",
    "    view.center()\n",
    "    view._remote_call('setSize', target='Widget', args=['','600px'])\n",
    "    view"
   ]
  },
  {
   "cell_type": "markdown",
   "metadata": {},
   "source": [
    "***\n",
    "### RMSd distribution of the generated ensemble\n",
    "\n",
    "***\n",
    "**Building Blocks** used:\n",
    " - [cpptraj_rms](https://biobb-analysis.readthedocs.io/en/latest/ambertools.html#module-ambertools.cpptraj_rms) from **biobb_analysis.ambertools.cpptraj_rms**\n",
    "***"
   ]
  },
  {
   "cell_type": "code",
   "execution_count": null,
   "metadata": {},
   "outputs": [],
   "source": [
    "from biobb_analysis.ambertools.cpptraj_rms import cpptraj_rms\n",
    "\n",
    "concoord_rmsd = pdbCode + \"_concoord_rmsd.dat\"\n",
    "\n",
    "prop = {\n",
    "    'start': 1,\n",
    "    'end': -1,\n",
    "    'steps': 1,\n",
    "    'mask': 'c-alpha',\n",
    "    'reference': 'experimental'\n",
    "}\n",
    "cpptraj_rms(input_top_path=concoord_dist_pdb,\n",
    "            input_traj_path=concoord_disco_pdb,\n",
    "            output_cpptraj_path=concoord_rmsd,\n",
    "            input_exp_path= monomer,\n",
    "            properties=prop)"
   ]
  },
  {
   "cell_type": "markdown",
   "metadata": {},
   "source": [
    "***\n",
    "### Visualizing the RMSd distribution\n",
    "***"
   ]
  },
  {
   "cell_type": "code",
   "execution_count": null,
   "metadata": {},
   "outputs": [],
   "source": [
    "df = pd.read_csv(concoord_rmsd, header = 0, delimiter='\\s+')\n",
    "\n",
    "plotly.offline.init_notebook_mode(connected=True)\n",
    "\n",
    "fig = {\n",
    "    \"data\": [go.Histogram(x=df['RMSD_00004'], xbins=dict(\n",
    "    size=0.04), autobinx=False)],\n",
    "    \"layout\": go.Layout(title=\"RMSd variance\",\n",
    "                        xaxis=dict(title = \"RMSd (Angstroms)\"),\n",
    "                        yaxis=dict(title = \"Population\")\n",
    "                       )\n",
    "}\n",
    "\n",
    "plotly.offline.iplot(fig)"
   ]
  },
  {
   "cell_type": "markdown",
   "metadata": {},
   "source": [
    "***\n",
    "### Converting the generated ensemble (for visualization purposes)\n",
    "\n",
    "***\n",
    "**Building Blocks** used:\n",
    " - [cpptraj_convert](https://biobb-analysis.readthedocs.io/en/latest/ambertools.html#module-ambertools.cpptraj_convert) from **biobb_analysis.ambertools.cpptraj_convert**\n",
    "***"
   ]
  },
  {
   "cell_type": "code",
   "execution_count": null,
   "metadata": {
    "scrolled": true
   },
   "outputs": [],
   "source": [
    "from biobb_analysis.ambertools.cpptraj_convert import cpptraj_convert\n",
    "\n",
    "concoord_trr = pdbCode + \"_disco_traj.trr\"\n",
    "\n",
    "prop = {\n",
    "    'mask' : 'c-alpha',\n",
    "    'format': 'trr'\n",
    "}\n",
    "\n",
    "cpptraj_convert(input_top_path=concoord_dist_pdb,\n",
    "                input_traj_path=concoord_disco_pdb,\n",
    "                output_cpptraj_path=concoord_trr,\n",
    "                properties=prop)"
   ]
  },
  {
   "cell_type": "markdown",
   "metadata": {},
   "source": [
    "***\n",
    "### Visualizing the generated ensemble (as a trajectory)\n",
    "***"
   ]
  },
  {
   "cell_type": "code",
   "execution_count": null,
   "metadata": {},
   "outputs": [],
   "source": [
    "# Show trajectory\n",
    "view = nglview.show_simpletraj(nglview.SimpletrajTrajectory(concoord_trr, prot_ca), gui=True)\n",
    "view.center()\n",
    "view.add_representation(repr_type='ball+stick', selection='all')\n",
    "view._remote_call('setSize', target='Widget', args=['','600px'])\n",
    "view"
   ]
  },
  {
   "cell_type": "markdown",
   "metadata": {},
   "source": [
    "<a id=\"prody\"></a>\n",
    "***\n",
    "## PRODY\n",
    "\n",
    "**ProDy** is a free and open-source Python package for **protein structural dynamics analysis**. It is designed as a flexible and responsive API suitable for **interactive usage** and **application development**.\n",
    "\n",
    "* Structure analysis: **ProDy** has fast and flexible **PDB** and **DCD** file parsers, and powerful and customizable **atom selections** for contact identification, structure comparisons, and rapid implementation of new methods.\n",
    "\n",
    "\n",
    "* Dynamics analysis: \n",
    "    - **Principal component analysis** can be performed for: \n",
    "        - heterogeneous X-ray structures (missing residues, mutations)\n",
    "        - mixed structural datasets from Blast search\n",
    "        - NMR models and MD snapshots (essential dynamics analysis)\n",
    "        \n",
    "    * **Normal mode analysis** can be performed using: \n",
    "        - Anisotropic network model (ANM)\n",
    "        - Gaussian network model (GNM)\n",
    "        - ANM/GNM with distance and property dependent force constants\n",
    "\n",
    "\n",
    "References: <br>\n",
    "\n",
    "**PRODY website**: http://prody.csb.pitt.edu/\n",
    "\n",
    "**ProDy 2.0: Increased scale and scope after 10 years of protein dynamics modelling with Python.**<br>\n",
    "*Bioinformatics, 2021, 37(20):3657-3659.*<br>\n",
    "*Available at: https://doi.org/10.1093/bioinformatics/btab187*\n",
    "\n",
    "**ProDy: Protein Dynamics Inferred from Theory and Experiments.**<br>\n",
    "*Bioinformatics, 2011, 27(11):1575-1577.*<br>\n",
    "*Available at: https://doi.org/10.1093/bioinformatics/btr168*\n",
    "\n",
    "***\n",
    "**Building Blocks** used:\n",
    " - [prody_anm](https://biobb-flexdyn.readthedocs.io/en/latest/flexdyn.html#module-prody.prody_anm) from **biobb_flexdyn.flexdyn.prody_anm**\n",
    "***"
   ]
  },
  {
   "cell_type": "code",
   "execution_count": null,
   "metadata": {},
   "outputs": [],
   "source": [
    "from biobb_flexdyn.flexdyn.prody_anm import prody_anm\n",
    "\n",
    "prody_ensemble = pdbCode + \"_prody_anm_traj.pdb\"\n",
    "\n",
    "prop = {\n",
    "    'selection' : 'backbone',\n",
    "    'num_structs' : num_frames,\n",
    "    'rmsd' : 2.0\n",
    "}\n",
    "\n",
    "prody_anm(  input_pdb_path=monomer,\n",
    "            output_pdb_path=prody_ensemble,\n",
    "            properties=prop)\n"
   ]
  },
  {
   "cell_type": "markdown",
   "metadata": {},
   "source": [
    "***\n",
    "### RMSd distribution of the generated ensemble\n",
    "\n",
    "***\n",
    "**Building Blocks** used:\n",
    " - [cpptraj_rms](https://biobb-analysis.readthedocs.io/en/latest/ambertools.html#module-ambertools.cpptraj_rms) from **biobb_analysis.ambertools.cpptraj_rms**\n",
    "***"
   ]
  },
  {
   "cell_type": "code",
   "execution_count": null,
   "metadata": {},
   "outputs": [],
   "source": [
    "from biobb_analysis.ambertools.cpptraj_rms import cpptraj_rms\n",
    "\n",
    "prody_rmsd = pdbCode + \"_prody_rmsd.dat\"\n",
    "\n",
    "prop = {\n",
    "    'start': 1,\n",
    "    'end': -1,\n",
    "    'steps': 1,\n",
    "    'mask': 'c-alpha',\n",
    "    'reference': 'experimental'\n",
    "}\n",
    "cpptraj_rms(input_top_path=prody_ensemble,\n",
    "            input_traj_path=prody_ensemble,\n",
    "            output_cpptraj_path=prody_rmsd,\n",
    "            input_exp_path= monomer,\n",
    "            properties=prop)"
   ]
  },
  {
   "cell_type": "markdown",
   "metadata": {},
   "source": [
    "***\n",
    "### Visualizing the RMSd distribution\n",
    "***"
   ]
  },
  {
   "cell_type": "code",
   "execution_count": null,
   "metadata": {},
   "outputs": [],
   "source": [
    "df = pd.read_csv(prody_rmsd, header = 0, delimiter='\\s+')\n",
    "\n",
    "plotly.offline.init_notebook_mode(connected=True)\n",
    "\n",
    "fig = {\n",
    "    \"data\": [go.Histogram(x=df['RMSD_00004'], xbins=dict(\n",
    "    size=0.04), autobinx=False)],\n",
    "    \"layout\": go.Layout(title=\"RMSd variance\",\n",
    "                        xaxis=dict(title = \"RMSd (Angstroms)\"),\n",
    "                        yaxis=dict(title = \"Population\")\n",
    "                       )\n",
    "}\n",
    "\n",
    "plotly.offline.iplot(fig)"
   ]
  },
  {
   "cell_type": "markdown",
   "metadata": {},
   "source": [
    "***\n",
    "### Converting the generated ensemble (for visualization purposes)\n",
    "\n",
    "***\n",
    "**Building Blocks** used:\n",
    " - [cpptraj_convert](https://biobb-analysis.readthedocs.io/en/latest/ambertools.html#module-ambertools.cpptraj_convert) from **biobb_analysis.ambertools.cpptraj_convert**\n",
    "***"
   ]
  },
  {
   "cell_type": "code",
   "execution_count": null,
   "metadata": {
    "scrolled": true
   },
   "outputs": [],
   "source": [
    "from biobb_analysis.ambertools.cpptraj_convert import cpptraj_convert\n",
    "\n",
    "prody_trr = pdbCode + \"_prody_anm_traj.trr\"\n",
    "\n",
    "prop = {\n",
    "    'mask' : 'c-alpha',\n",
    "    'format': 'trr'\n",
    "}\n",
    "\n",
    "cpptraj_convert(input_top_path=prot_backbone,\n",
    "                input_traj_path=prody_ensemble,\n",
    "                output_cpptraj_path=prody_trr,\n",
    "                properties=prop)"
   ]
  },
  {
   "cell_type": "markdown",
   "metadata": {},
   "source": [
    "***\n",
    "### Visualizing the generated ensemble (as a trajectory)\n",
    "***"
   ]
  },
  {
   "cell_type": "code",
   "execution_count": null,
   "metadata": {},
   "outputs": [],
   "source": [
    "# Show trajectory\n",
    "view = nglview.show_simpletraj(nglview.SimpletrajTrajectory(prody_trr, prot_ca), gui=True)\n",
    "view.center()\n",
    "view.add_representation(repr_type='ball+stick', selection='all')\n",
    "view._remote_call('setSize', target='Widget', args=['','600px'])\n",
    "view"
   ]
  },
  {
   "cell_type": "markdown",
   "metadata": {},
   "source": [
    "<a id=\"flexserv\"></a>\n",
    "***\n",
    "## FLEXSERV\n",
    "\n",
    "Despite recent advances in **experimental techniques**, the study of **molecular flexibility** is mostly a task for **theoretical methods**. The most powerful of them is **atomistic molecular dynamics** (MD), a rigorous method with solid physical foundations, which provides accurate representations of **protein flexibility** under **physiological-like environments**. Unfortunately, despite its power, MD is a **complex technique**, **computationally expensive** and their use requires a certain **degree of expertise**. The alternative to **atomistic MD** is the use of **coarse-grained** methods coupled to **simple potentials**. By using these techniques we assume a **lost of atomic detail** to gain formal and **computational simplicity** in the representation of near-native state **flexibility** of proteins. Unfortunately, despite its power, the practical use of coarse-grained methods is still limited, due mostly to the lack of **standardized protocols** for analysis and the existence of a myriad of different algorithms distributed in different websites.\n",
    "\n",
    "**FlexServ** webserver and associated **BioBB module** integrate three **coarse-grained** algorithms for the representation of **protein flexibility**: \n",
    "\n",
    "i) **Brownian dynamics** (BD) <br>\n",
    "ii) **Discrete dynamics** (DMD)<br>\n",
    "iii) **Normal mode analysis** (NMA) based on different types of elastic networks <br>\n",
    "\n",
    "This next cells of this tutorial show how to extract **molecular flexibility** (conformational ensemble) from a single, static structure **downloaded** from the **PDB database**, generating its **coarse-grained**, reduced representation ($C_{\\alpha}$) and running the previously mentioned **coarse-grained algorithms**.\n",
    "\n",
    "References: <br>\n",
    "\n",
    "**FLEXSERV website**: https://mmb.irbbarcelona.org/FlexServ/\n",
    "\n",
    "**FlexServ: an integrated tool for the analysis of protein flexibility.**<br>\n",
    "*Bioinformatics, Volume 25, Issue 13, 2009, Pages 1709–1710,.*<br>\n",
    "*Available at: https://doi.org/10.1093/bioinformatics/btp304*\n",
    "\n",
    "***\n",
    "**Building Blocks** used:\n",
    " - [bd_run](https://biobb-flexserv.readthedocs.io/en/latest/flexserv.html#module-flexserv.bd_run) from **biobb_flexserv.flexserv.bd_run**\n",
    " - [dmd_run](https://biobb-flexserv.readthedocs.io/en/latest/flexserv.html#module-flexserv.dmd_run) from **biobb_flexserv.flexserv.dmd_run**\n",
    " - [nma_run](https://biobb-flexserv.readthedocs.io/en/latest/flexserv.html#module-flexserv.nma_run) from **biobb_flexserv.flexserv.nma_run**\n",
    "***"
   ]
  },
  {
   "cell_type": "markdown",
   "metadata": {},
   "source": [
    "<a id=\"bd\"></a>\n",
    "***\n",
    "## Brownian Dynamics (BD)\n",
    "\n",
    "The **Brownian Dynamics** (BD) method introduces the protein in an **stochastic bath** that keeps the **temperature constant** and modulates the otherwise extreme oscillations of the residues. This bath is simulated with two terms accounting for a **velocity-dependent friction** and **stochastic forces** due to the **solvent environment**.\n",
    "**Velocity Verlet** algorithm is used to solve the **stochastic differential equation** (equation of motion) for **alpha-carbons** ($C\\alpha$). The **equation of motion** is integrated using **Verlet’s algorithm**\n",
    "The **potential energy** used to compute **forces** in the **equation of motion** assumes a **coarse-grained representation of the protein** ($C\\alpha$-only) and a **quasi-harmonic representation** of the **interactions** (similar to that suggested by [Kovacs et al. 2004](https://doi.org/10.1002/prot.20151)).\n",
    "\n",
    "The initial condition is a **native structure** (or MD-averaged conformation) that is supposed to be in the **minimal energy state**, from which the **relative vectors** are computed. Brownian Dynamics (BD) **simulation time scales** were equivalent to those considered in **Molecular Dynamics** (MD).\n",
    "\n",
    "Reference: <br>\n",
    "**Exploring the Suitability of Coarse-Grained Techniques for the Representation of Protein Dynamics.**<br>\n",
    "*Biophysical Journal, Volume 95, Issue 5, 1 September 2008, Pages 2127-2138*<br>\n",
    "*Available at: https://doi.org/10.1529/biophysj.107.119115*\n",
    "\n",
    "***"
   ]
  },
  {
   "cell_type": "code",
   "execution_count": null,
   "metadata": {},
   "outputs": [],
   "source": [
    "# Running Brownian Dynamics (BD)\n",
    "# Import module\n",
    "from biobb_flexserv.flexserv.bd_run import bd_run\n",
    "\n",
    "# Create properties dict and inputs/outputs\n",
    "\n",
    "bd_log = pdbCode + '_flexserv_bd_ensemble.log'\n",
    "bd_crd = pdbCode + '_flexserv_bd_ensemble.mdcrd'\n",
    "\n",
    "wfreq = 100\n",
    "time = num_frames * wfreq\n",
    "\n",
    "prop = {\n",
    "    'time': time,\n",
    "    'wfreq': wfreq\n",
    "}\n",
    "\n",
    "bd_run( \n",
    "     input_pdb_path=prot_ca,\n",
    "     output_crd_path=bd_crd,\n",
    "     output_log_path=bd_log,\n",
    "     properties=prop\n",
    ")"
   ]
  },
  {
   "cell_type": "markdown",
   "metadata": {},
   "source": [
    "***\n",
    "### RMSd distribution of the generated ensemble\n",
    "\n",
    "***\n",
    "**Building Blocks** used:\n",
    " - [cpptraj_rms](https://biobb-analysis.readthedocs.io/en/latest/ambertools.html#module-ambertools.cpptraj_rms) from **biobb_analysis.ambertools.cpptraj_rms**\n",
    "***"
   ]
  },
  {
   "cell_type": "code",
   "execution_count": null,
   "metadata": {},
   "outputs": [],
   "source": [
    "from biobb_analysis.ambertools.cpptraj_rms import cpptraj_rms\n",
    "\n",
    "flexserv_bd_rmsd = pdbCode + \"_flexserv_bd_rmsd.dat\"\n",
    "\n",
    "prop = {\n",
    "    'start': 1,\n",
    "    'end': -1,\n",
    "    'steps': 1,\n",
    "    'mask': 'c-alpha',\n",
    "    'reference': 'experimental'\n",
    "}\n",
    "cpptraj_rms(input_top_path=prot_ca,\n",
    "            input_traj_path=bd_crd,\n",
    "            output_cpptraj_path=flexserv_bd_rmsd,\n",
    "            input_exp_path=monomer,\n",
    "            properties=prop)"
   ]
  },
  {
   "cell_type": "markdown",
   "metadata": {},
   "source": [
    "***\n",
    "### Visualizing the RMSd distribution\n",
    "***"
   ]
  },
  {
   "cell_type": "code",
   "execution_count": null,
   "metadata": {},
   "outputs": [],
   "source": [
    "df = pd.read_csv(flexserv_bd_rmsd, header = 0, delimiter='\\s+')\n",
    "\n",
    "plotly.offline.init_notebook_mode(connected=True)\n",
    "\n",
    "fig = {\n",
    "    \"data\": [go.Histogram(x=df['RMSD_00004'], xbins=dict(\n",
    "    size=0.04), autobinx=False)],\n",
    "    \"layout\": go.Layout(title=\"RMSd variance\",\n",
    "                        xaxis=dict(title = \"RMSd (Angstroms)\"),\n",
    "                        yaxis=dict(title = \"Population\")\n",
    "                       )\n",
    "}\n",
    "\n",
    "plotly.offline.iplot(fig)"
   ]
  },
  {
   "cell_type": "markdown",
   "metadata": {},
   "source": [
    "***\n",
    "### Fitting and converting the generated ensemble (for visualization purposes)\n",
    "\n",
    "***\n",
    "**Building Blocks** used:\n",
    " - [cpptraj_rms](https://biobb-analysis.readthedocs.io/en/latest/ambertools.html#module-ambertools.cpptraj_rms) from **biobb_analysis.ambertools.cpptraj_rms**\n",
    "***"
   ]
  },
  {
   "cell_type": "code",
   "execution_count": null,
   "metadata": {},
   "outputs": [],
   "source": [
    "from biobb_analysis.ambertools.cpptraj_rms import cpptraj_rms\n",
    "\n",
    "flexserv_bd_rmsd = pdbCode + \"_flexserv_bd_rmsd.dat\" \n",
    "flexserv_bd_traj_fitted = pdbCode + \"_flexserv_bd_traj_fitted.trr\"\n",
    "\n",
    "prop = {\n",
    "    'start': 1,\n",
    "    'end': -1,\n",
    "    'steps': 1,\n",
    "    'mask': 'c-alpha',\n",
    "    'reference': 'experimental'\n",
    "}\n",
    "cpptraj_rms(input_top_path=prot_ca,\n",
    "            input_traj_path=bd_crd,\n",
    "            output_cpptraj_path=flexserv_bd_rmsd,\n",
    "            output_traj_path=flexserv_bd_traj_fitted,\n",
    "            input_exp_path= monomer,\n",
    "            properties=prop)"
   ]
  },
  {
   "cell_type": "markdown",
   "metadata": {},
   "source": [
    "***\n",
    "### Visualizing the generated ensemble (as a trajectory)\n",
    "***"
   ]
  },
  {
   "cell_type": "code",
   "execution_count": null,
   "metadata": {},
   "outputs": [],
   "source": [
    "# Show trajectory\n",
    "view = nglview.show_simpletraj(nglview.SimpletrajTrajectory(flexserv_bd_traj_fitted, prot_ca), gui=True)\n",
    "view.add_representation(repr_type='ball+stick', selection='all')\n",
    "view.center()\n",
    "view._remote_call('setSize', target='Widget', args=['','600px'])\n",
    "view"
   ]
  },
  {
   "cell_type": "markdown",
   "metadata": {},
   "source": [
    "<a id=\"dmd\"></a>\n",
    "***\n",
    "## Discrete Molecular Dynamics (DMD)\n",
    "\n",
    "With the **Discrete Molecular Dynamics** (DMD) method, the proteins are modelled as a system of beads ($C\\alpha$ atoms) interacting through a **discontinuous potential** (square wells in the used tool). Outside the discontinuities, **potentials** are considered constant, thereby implying a **ballistic regime** for the particles (**constant potential, constant velocity**) in all conditions, except at such time as when the particles reach a **potential discontinuity** (this is called “an **event**” or “a **collision**”). At this time, the **velocities** of the colliding particles are modified by imposing **conservation of the linear momentum**, **angular momentum**, and **total energy**. Since the particles were constrained to move within a configurational space where the **potential energy** is constant (**infinite square wells**), the **kinetic energy** remains unchanged and therefore all collisions are assumed to be **elastic**.\n",
    "\n",
    "**DMD** has a major advantage over techniques like **MD** because, as it does not require the **integration of the equations of motion** at fixed **time steps**, the calculation progresses **from event to event**. In practice, the time between events decreases with **temperature** and **density** and depends on the **number of particles\n",
    "N**. The **equation of motion**, corresponding to **constant velocity**, is solved analytically.\n",
    "\n",
    "As the **integration of Newton’s equations** is no longer the rate limiting step, calculations can be extended for very **long simulation** periods and **large systems**, provided an efficient algorithm for **predicting collisions** is used.\n",
    "\n",
    "The **collision between particles** i and j is associated with a **transfer of linear momentum** in the direction of the vector $\\vec{r_{ij}}$. To calculate the **change in velocities**, the **velocity** of each **particle** is projected in the **direction of the vector** $\\vec{r_{ij}}$ so that the **conservation equations** become one-dimensional along the **interatomic coordinate**. \n",
    "\n",
    "***"
   ]
  },
  {
   "cell_type": "code",
   "execution_count": null,
   "metadata": {},
   "outputs": [],
   "source": [
    "# Running Discrete Molecular Dynamics (DMD)\n",
    "# Import module\n",
    "from biobb_flexserv.flexserv.dmd_run import dmd_run\n",
    "\n",
    "# Create properties dict and inputs/outputs\n",
    "\n",
    "dmd_log = pdbCode + '_flexserv_dmd_ensemble.log'\n",
    "dmd_crd = pdbCode + '_flexserv_dmd_ensemble.mdcrd'\n",
    "\n",
    "prop = {\n",
    "    'frames': num_frames\n",
    "}\n",
    "dmd_run( \n",
    "     input_pdb_path=prot_ca,\n",
    "     output_crd_path=dmd_crd,\n",
    "     output_log_path=dmd_log,\n",
    "     properties=prop\n",
    ")"
   ]
  },
  {
   "cell_type": "markdown",
   "metadata": {},
   "source": [
    "***\n",
    "### RMSd distribution of the generated ensemble\n",
    "\n",
    "***\n",
    "**Building Blocks** used:\n",
    " - [cpptraj_rms](https://biobb-analysis.readthedocs.io/en/latest/ambertools.html#module-ambertools.cpptraj_rms) from **biobb_analysis.ambertools.cpptraj_rms**\n",
    "***"
   ]
  },
  {
   "cell_type": "code",
   "execution_count": null,
   "metadata": {},
   "outputs": [],
   "source": [
    "from biobb_analysis.ambertools.cpptraj_rms import cpptraj_rms\n",
    "\n",
    "flexserv_dmd_rmsd = pdbCode + \"_flexserv_dmd_rmsd.dat\"\n",
    "\n",
    "prop = {\n",
    "    'start': 1,\n",
    "    'end': -1,\n",
    "    'steps': 1,\n",
    "    'mask': 'c-alpha',\n",
    "    'reference': 'experimental'\n",
    "}\n",
    "\n",
    "cpptraj_rms(input_top_path=prot_ca,\n",
    "            input_traj_path=dmd_crd,\n",
    "            output_cpptraj_path=flexserv_dmd_rmsd,\n",
    "            input_exp_path= monomer,\n",
    "            properties=prop)"
   ]
  },
  {
   "cell_type": "markdown",
   "metadata": {},
   "source": [
    "***\n",
    "### Visualizing the RMSd distribution\n",
    "***"
   ]
  },
  {
   "cell_type": "code",
   "execution_count": null,
   "metadata": {},
   "outputs": [],
   "source": [
    "df = pd.read_csv(flexserv_dmd_rmsd, header = 0, delimiter='\\s+')\n",
    "\n",
    "plotly.offline.init_notebook_mode(connected=True)\n",
    "\n",
    "fig = {\n",
    "    \"data\": [go.Histogram(x=df['RMSD_00004'], xbins=dict(\n",
    "    size=0.04), autobinx=False)],\n",
    "    \"layout\": go.Layout(title=\"RMSd variance\",\n",
    "                        xaxis=dict(title = \"RMSd (Angstroms)\"),\n",
    "                        yaxis=dict(title = \"Population\")\n",
    "                       )\n",
    "}\n",
    "\n",
    "plotly.offline.iplot(fig)"
   ]
  },
  {
   "cell_type": "markdown",
   "metadata": {},
   "source": [
    "***\n",
    "### Fitting and converting the generated ensemble (for visualization purposes)\n",
    "\n",
    "***\n",
    "**Building Blocks** used:\n",
    " - [cpptraj_rms](https://biobb-analysis.readthedocs.io/en/latest/ambertools.html#module-ambertools.cpptraj_rms) from **biobb_analysis.ambertools.cpptraj_rms**\n",
    "***"
   ]
  },
  {
   "cell_type": "code",
   "execution_count": null,
   "metadata": {},
   "outputs": [],
   "source": [
    "from biobb_analysis.ambertools.cpptraj_rms import cpptraj_rms\n",
    "\n",
    "flexserv_dmd_rmsd = pdbCode + \"_flexserv_dmd_rmsd.dat\"\n",
    "flexserv_dmd_traj_fitted = pdbCode + \"_flexserv_dmd_traj_fitted.trr\"\n",
    "\n",
    "prop = {\n",
    "    'start': 1,\n",
    "    'end': -1,\n",
    "    'steps': 1,\n",
    "    'mask': 'c-alpha',\n",
    "    'reference': 'experimental'\n",
    "}\n",
    "\n",
    "cpptraj_rms(input_top_path=prot_ca,\n",
    "            input_traj_path=dmd_crd,\n",
    "            output_cpptraj_path=flexserv_dmd_rmsd,\n",
    "            output_traj_path=flexserv_dmd_traj_fitted,\n",
    "            input_exp_path= monomer,\n",
    "            properties=prop)"
   ]
  },
  {
   "cell_type": "markdown",
   "metadata": {},
   "source": [
    "***\n",
    "### Visualizing the generated ensemble (as a trajectory)\n",
    "***"
   ]
  },
  {
   "cell_type": "code",
   "execution_count": null,
   "metadata": {},
   "outputs": [],
   "source": [
    "# Show trajectory\n",
    "view = nglview.show_simpletraj(nglview.SimpletrajTrajectory(flexserv_dmd_traj_fitted, prot_ca), gui=True)\n",
    "view.add_representation(repr_type='ball+stick', selection='all')\n",
    "view.center()\n",
    "view._remote_call('setSize', target='Widget', args=['','600px'])\n",
    "view"
   ]
  },
  {
   "cell_type": "markdown",
   "metadata": {},
   "source": [
    "<a id=\"nma\"></a>\n",
    "***\n",
    "## Normal Mode Analysis (NMA)\n",
    "\n",
    "**Normal Mode Analysis** (NMA) can be defined as the **multidimensional** treatment of **coupled oscillators** from the analysis of **force-derivatives** in **equilibrium conformations**. This methodology assumes that the **displacement** of an **atom** from its **equilibrium position** is small and that the **potential energy** in the vicinity of the **equilibrium position** can be approximated as a **sum of terms** that are **quadratic** in the **atomic displacements**. In its purest form, it uses the same **all-atom force field** from a **MD simulation**, implying a prior **in vacuo minimization** ([Go and Scheraga 1976](https://pubs.acs.org/cgi-bin/abstract.cgi/mamobx/1976/9/i04/f-pdf/f_ma60052a001.pdf?sessid=6006l3); [Brooks III, Karplus et al. 1987](https://adsabs.harvard.edu/abs/1990PhT....43b.120B)). \n",
    "\n",
    "[Tirion (1996)](https://link.aps.org/doi/10.1103/PhysRevLett.77.1905) proposed a **simplified model** where the **interaction** between two atoms was described by **Hookean pairwise potential** where the distances are taken to be at the minimum, avoiding the minimization (referred as **Elastic Network Model** -ENM-). This idea being further extended to use **coarse-grained** ($C\\alpha$) protein representation by several research groups, as in the **Gaussian Network Model** -GNM- ([Bahar et al. 1997](https://linkinghub.elsevier.com/retrieve/pii/S1359027897000242); [Haliloglu et al. 1997](https://link.aps.org/doi/10.1103/PhysRevLett.79.3090)). The **GNM model** was later extended to a 3-D, vectorial **Anisotropic Network Model** -ANM-, which is the formalism implemented in the following cell ([Atilgan et al. 2001](https://www.biophysj.org/cgi/content/abstract/80/1/505)). Through the **diagonalization** of the **hessian matrix**, the **ANM** provides **eigenvalues** and **eigenvectors** that not only describe the **frequencies** and **shapes** of the **normal modes**, but also their **directions**.\n",
    "\n",
    "Once **NMA** is performed and the set of **eigenvectors/eigenvalues** is determined, ***Cartesian pseudo-trajectories*** at **physiologic temperature** can be obtained by activating **normal mode deformations** using a **Metropolis Monte Carlo algorithm**. The **displacements** obtained by such algorithm can then be projected to the **Cartesian space** to generate the ***pseudo-trajectories***.\n",
    "\n",
    "***"
   ]
  },
  {
   "cell_type": "code",
   "execution_count": null,
   "metadata": {},
   "outputs": [],
   "source": [
    "# Running Normal Mode Analysis (NMA)\n",
    "# Import module\n",
    "from biobb_flexserv.flexserv.nma_run import nma_run\n",
    "\n",
    "# Create properties dict and inputs/outputs\n",
    "\n",
    "nma_log = pdbCode + '_flexserv_nma_ensemble.log'\n",
    "nma_crd = pdbCode + '_flexserv_nma_ensemble.mdcrd'\n",
    "\n",
    "prop = {\n",
    "    'frames' : num_frames\n",
    "}\n",
    "\n",
    "nma_run( \n",
    "     input_pdb_path=prot_ca,\n",
    "     output_crd_path=nma_crd,\n",
    "     output_log_path=nma_log,\n",
    "     properties=prop\n",
    ")"
   ]
  },
  {
   "cell_type": "markdown",
   "metadata": {},
   "source": [
    "***\n",
    "### RMSd distribution of the generated ensemble\n",
    "\n",
    "***\n",
    "**Building Blocks** used:\n",
    " - [cpptraj_rms](https://biobb-analysis.readthedocs.io/en/latest/ambertools.html#module-ambertools.cpptraj_rms) from **biobb_analysis.ambertools.cpptraj_rms**\n",
    "***"
   ]
  },
  {
   "cell_type": "code",
   "execution_count": null,
   "metadata": {},
   "outputs": [],
   "source": [
    "from biobb_analysis.ambertools.cpptraj_rms import cpptraj_rms\n",
    "\n",
    "flexserv_nma_rmsd = pdbCode + \"_flexserv_nma_rmsd.dat\"\n",
    "\n",
    "prop = {\n",
    "    'start': 1,\n",
    "    'end': -1,\n",
    "    'steps': 1,\n",
    "    'mask': 'c-alpha',\n",
    "    'reference': 'experimental'\n",
    "}\n",
    "\n",
    "cpptraj_rms(input_top_path=prot_ca,\n",
    "            input_traj_path=nma_crd,\n",
    "            output_cpptraj_path=flexserv_nma_rmsd,\n",
    "            input_exp_path= monomer,\n",
    "            properties=prop)"
   ]
  },
  {
   "cell_type": "markdown",
   "metadata": {},
   "source": [
    "***\n",
    "### Visualizing the RMSd distribution\n",
    "***"
   ]
  },
  {
   "cell_type": "code",
   "execution_count": null,
   "metadata": {},
   "outputs": [],
   "source": [
    "df = pd.read_csv(flexserv_nma_rmsd, header = 0, delimiter='\\s+')\n",
    "\n",
    "plotly.offline.init_notebook_mode(connected=True)\n",
    "\n",
    "fig = {\n",
    "    \"data\": [go.Histogram(x=df['RMSD_00004'], xbins=dict(\n",
    "    size=0.04), autobinx=False)],\n",
    "    \"layout\": go.Layout(title=\"RMSd variance\",\n",
    "                        xaxis=dict(title = \"RMSd (Angstroms)\"),\n",
    "                        yaxis=dict(title = \"Population\")\n",
    "                       )\n",
    "}\n",
    "\n",
    "plotly.offline.iplot(fig)"
   ]
  },
  {
   "cell_type": "markdown",
   "metadata": {},
   "source": [
    "***\n",
    "### Converting the generated ensemble (for visualization purposes)\n",
    "\n",
    "***\n",
    "**Building Blocks** used:\n",
    " - [cpptraj_convert](https://biobb-analysis.readthedocs.io/en/latest/ambertools.html#module-ambertools.cpptraj_convert) from **biobb_analysis.ambertools.cpptraj_convert**\n",
    "***"
   ]
  },
  {
   "cell_type": "code",
   "execution_count": null,
   "metadata": {
    "scrolled": true
   },
   "outputs": [],
   "source": [
    "from biobb_analysis.ambertools.cpptraj_convert import cpptraj_convert\n",
    "\n",
    "nma_trr = pdbCode + '_flexserv_nma_ensemble.trr'\n",
    "\n",
    "prop = {\n",
    "    'mask' : 'c-alpha',\n",
    "    'format': 'trr'\n",
    "}\n",
    "\n",
    "cpptraj_convert(input_top_path=prot_ca,\n",
    "                input_traj_path=nma_crd,\n",
    "                output_cpptraj_path=nma_trr,\n",
    "                properties=prop)"
   ]
  },
  {
   "cell_type": "markdown",
   "metadata": {},
   "source": [
    "***\n",
    "### Visualizing the generated ensemble (as a trajectory)\n",
    "***"
   ]
  },
  {
   "cell_type": "code",
   "execution_count": null,
   "metadata": {},
   "outputs": [],
   "source": [
    "# Show trajectory\n",
    "view = nglview.show_simpletraj(nglview.SimpletrajTrajectory(nma_trr, prot_ca), gui=True)\n",
    "view.add_representation(repr_type='ball+stick', selection='all')\n",
    "view.center()\n",
    "view._remote_call('setSize', target='Widget', args=['','600px'])\n",
    "view"
   ]
  },
  {
   "cell_type": "markdown",
   "metadata": {},
   "source": [
    "<a id=\"nolb\"></a>\n",
    "***\n",
    "## NOLB\n",
    "\n",
    "**NOn-Linear rigid Block NMA approach** (NOLB) is a conceptually simple and **computationally efficient** method for **non-linear normal mode analysis**.\n",
    "\n",
    "The key observation of the method is that the **angular velocity** of a **residue** can be interpreted as the result of an **implicit force**, such that the **motion of the residue** can be considered as a **pure rotation** about a **certain center**.\n",
    "\n",
    "References: <br>\n",
    "\n",
    "**NOLB website**: https://team.inria.fr/nano-d/software/nolb-normal-modes/\n",
    "\n",
    "**NOLB : Non-linear rigid block normal mode analysis method.**<br>\n",
    "*Journal of Chemical Theory and Computation, 2017, 13 (5), pp.2123-2134.*<br>\n",
    "*Available at: https://doi.org/10.1021/acs.jctc.7b00197*\n",
    "\n",
    "***\n",
    "**Building Blocks** used:\n",
    " - [nolb](https://biobb-flexdyn.readthedocs.io/en/latest/flexdyn.html#module-nolb.nolb) from **biobb_flexdyn.nolb.nolb**\n",
    "***"
   ]
  },
  {
   "cell_type": "code",
   "execution_count": null,
   "metadata": {},
   "outputs": [],
   "source": [
    "from biobb_flexdyn.flexdyn.nolb_nma import nolb_nma\n",
    "\n",
    "nolb_pdb = pdbCode + '_nolb_ensemble.pdb'\n",
    "\n",
    "prop = {\n",
    "    'num_structs' : num_frames,\n",
    "    'rmsd' : 4\n",
    "}\n",
    "\n",
    "nolb_nma(   input_pdb_path=prot_ca,\n",
    "        output_pdb_path=nolb_pdb,\n",
    "        properties=prop)"
   ]
  },
  {
   "cell_type": "markdown",
   "metadata": {},
   "source": [
    "***\n",
    "### RMSd distribution of the generated ensemble\n",
    "\n",
    "***\n",
    "**Building Blocks** used:\n",
    " - [cpptraj_rms](https://biobb-analysis.readthedocs.io/en/latest/ambertools.html#module-ambertools.cpptraj_rms) from **biobb_analysis.ambertools.cpptraj_rms**\n",
    "***"
   ]
  },
  {
   "cell_type": "code",
   "execution_count": null,
   "metadata": {},
   "outputs": [],
   "source": [
    "from biobb_analysis.ambertools.cpptraj_rms import cpptraj_rms\n",
    "\n",
    "nolb_rmsd = pdbCode + \"_nolb_rmsd.dat\"\n",
    "\n",
    "prop = {\n",
    "    'start': 1,\n",
    "    'end': -1,\n",
    "    'steps': 1,\n",
    "    'mask': 'c-alpha',\n",
    "    'reference': 'experimental'\n",
    "}\n",
    "\n",
    "cpptraj_rms(input_top_path=prot_ca,\n",
    "            input_traj_path=nolb_pdb,\n",
    "            output_cpptraj_path=nolb_rmsd,\n",
    "            input_exp_path= monomer,\n",
    "            properties=prop)"
   ]
  },
  {
   "cell_type": "markdown",
   "metadata": {},
   "source": [
    "***\n",
    "### Visualizing the RMSd distribution\n",
    "***"
   ]
  },
  {
   "cell_type": "code",
   "execution_count": null,
   "metadata": {},
   "outputs": [],
   "source": [
    "df = pd.read_csv(nolb_rmsd, header = 0, delimiter='\\s+')\n",
    "\n",
    "plotly.offline.init_notebook_mode(connected=True)\n",
    "\n",
    "fig = {\n",
    "    \"data\": [go.Histogram(x=df['RMSD_00004'], xbins=dict(\n",
    "    size=0.04), autobinx=False)],\n",
    "    \"layout\": go.Layout(title=\"RMSd variance\",\n",
    "                        xaxis=dict(title = \"RMSd (Angstroms)\"),\n",
    "                        yaxis=dict(title = \"Population\")\n",
    "                       )\n",
    "}\n",
    "\n",
    "plotly.offline.iplot(fig)"
   ]
  },
  {
   "cell_type": "markdown",
   "metadata": {},
   "source": [
    "***\n",
    "### Converting the generated ensemble (for visualization purposes)\n",
    "\n",
    "***\n",
    "**Building Blocks** used:\n",
    " - [cpptraj_convert](https://biobb-analysis.readthedocs.io/en/latest/ambertools.html#module-ambertools.cpptraj_convert) from **biobb_analysis.ambertools.cpptraj_convert**\n",
    "***"
   ]
  },
  {
   "cell_type": "code",
   "execution_count": null,
   "metadata": {
    "scrolled": true
   },
   "outputs": [],
   "source": [
    "from biobb_analysis.ambertools.cpptraj_convert import cpptraj_convert\n",
    "\n",
    "nolb_trr = pdbCode + '_nolb_ensemble.trr'\n",
    "\n",
    "prop = {\n",
    "    'mask' : 'c-alpha',\n",
    "    'format': 'trr'\n",
    "}\n",
    "\n",
    "cpptraj_convert(input_top_path=prot_ca,\n",
    "                input_traj_path=nolb_pdb,\n",
    "                output_cpptraj_path=nolb_trr,\n",
    "                properties=prop)"
   ]
  },
  {
   "cell_type": "markdown",
   "metadata": {},
   "source": [
    "***\n",
    "### Visualizing the generated ensemble (as a trajectory)\n",
    "***"
   ]
  },
  {
   "cell_type": "code",
   "execution_count": null,
   "metadata": {},
   "outputs": [],
   "source": [
    "# Show trajectory\n",
    "view = nglview.show_simpletraj(nglview.SimpletrajTrajectory(nolb_trr, prot_ca), gui=True)\n",
    "view.clear_representations()\n",
    "view.add_representation(repr_type='ball+stick', selection='all')\n",
    "view.center()\n",
    "view._remote_call('setSize', target='Widget', args=['','600px'])\n",
    "view"
   ]
  },
  {
   "cell_type": "markdown",
   "metadata": {},
   "source": [
    "<a id=\"imod\"></a>\n",
    "***\n",
    "## iMOD\n",
    "\n",
    "**iMOD** is an versatile toolkit to perform **Normal Mode Analysis (NMA)** in **internal coordinates (IC)** on both protein and nucleic acid atomic structures. **Vibrational analysis**, **motion animations**, **morphing trajectories** and **Monte-Carlo simulations** can be easily carried out at different scales of **resolution** using this toolkit. \n",
    "\n",
    "References: <br>\n",
    "\n",
    "**iMOD website**: https://chaconlab.org/multiscale-simulations/imod <br>\n",
    "**iMOD webserver**: https://imods.iqfr.csic.es/\n",
    "\n",
    "**iMod: multipurpose normal mode analysis in internal coordinates.**<br>\n",
    "*Bioinformatics, 2011, 27 (20): 2843-2850.*<br>\n",
    "*Available at: https://doi.org/10.1093/bioinformatics/btr497*\n",
    "\n",
    "**iMODS: Internal coordinates normal mode analysis server.**<br>\n",
    "*Nucleic acids research, 2014, 42:W271-6.*<br>\n",
    "*Available at: https://doi.org/10.1093/bioinformatics/btr497*\n",
    "\n",
    "***\n",
    "**Building Blocks** used:\n",
    " - [imod_imode](https://biobb-flexdyn.readthedocs.io/en/latest/flexdyn.html#module-flexdyn.imod_imode) from **biobb_flexdyn.flexdyn.imod_imode**\n",
    " - [imod_imc](https://biobb-flexdyn.readthedocs.io/en/latest/flexdyn.html#module-flexdyn.imod_imc) from **biobb_flexdyn.flexdyn.imod_imc**\n",
    "***"
   ]
  },
  {
   "cell_type": "code",
   "execution_count": null,
   "metadata": {
    "scrolled": true
   },
   "outputs": [],
   "source": [
    "from biobb_flexdyn.flexdyn.imod_imode import imod_imode\n",
    "\n",
    "imode_evecs = pdbCode + '_imode_evecs.dat'\n",
    "\n",
    "prop = {\n",
    "    'cg' : 2\n",
    "}\n",
    "\n",
    "imod_imode(  input_pdb_path=monomer,\n",
    "        output_dat_path=imode_evecs,\n",
    "        properties=prop)"
   ]
  },
  {
   "cell_type": "code",
   "execution_count": null,
   "metadata": {
    "scrolled": true
   },
   "outputs": [],
   "source": [
    "from biobb_flexdyn.flexdyn.imod_imc import imod_imc\n",
    "\n",
    "imc_pdb = pdbCode + '_imc.pdb'\n",
    "\n",
    "prop = {\n",
    "    'num_structs': num_frames,\n",
    "    'num_modes': 10,\n",
    "    'amplitude': 6.0\n",
    "}\n",
    "\n",
    "imod_imc(   input_pdb_path=monomer,\n",
    "            input_dat_path=imode_evecs,\n",
    "            output_traj_path=imc_pdb,\n",
    "            properties=prop)"
   ]
  },
  {
   "cell_type": "markdown",
   "metadata": {},
   "source": [
    "***\n",
    "### RMSd distribution of the generated ensemble\n",
    "\n",
    "***\n",
    "**Building Blocks** used:\n",
    " - [cpptraj_rms](https://biobb-analysis.readthedocs.io/en/latest/ambertools.html#module-ambertools.cpptraj_rms) from **biobb_analysis.ambertools.cpptraj_rms**\n",
    "***"
   ]
  },
  {
   "cell_type": "code",
   "execution_count": null,
   "metadata": {},
   "outputs": [],
   "source": [
    "from biobb_analysis.ambertools.cpptraj_rms import cpptraj_rms\n",
    "\n",
    "imods_rmsd = pdbCode + \"_imods_rmsd.dat\"\n",
    "\n",
    "prop = {\n",
    "    'start': 1,\n",
    "    'end': -1,\n",
    "    'steps': 1,\n",
    "    'mask': 'c-alpha',\n",
    "    'reference': 'experimental'\n",
    "}\n",
    "\n",
    "cpptraj_rms(input_top_path=imc_pdb,\n",
    "            input_traj_path=imc_pdb,\n",
    "            output_cpptraj_path=imods_rmsd,\n",
    "            input_exp_path= monomer,\n",
    "            properties=prop)"
   ]
  },
  {
   "cell_type": "markdown",
   "metadata": {},
   "source": [
    "***\n",
    "### Visualizing the RMSd distribution\n",
    "***"
   ]
  },
  {
   "cell_type": "code",
   "execution_count": null,
   "metadata": {},
   "outputs": [],
   "source": [
    "df = pd.read_csv(imods_rmsd, header = 0, delimiter='\\s+')\n",
    "\n",
    "plotly.offline.init_notebook_mode(connected=True)\n",
    "\n",
    "fig = {\n",
    "    \"data\": [go.Histogram(x=df['RMSD_00004'], xbins=dict(\n",
    "    size=0.04), autobinx=False)],\n",
    "    \"layout\": go.Layout(title=\"RMSd variance\",\n",
    "                        xaxis=dict(title = \"RMSd (Angstroms)\"),\n",
    "                        yaxis=dict(title = \"Population\")\n",
    "                       )\n",
    "}\n",
    "\n",
    "plotly.offline.iplot(fig)"
   ]
  },
  {
   "cell_type": "markdown",
   "metadata": {},
   "source": [
    "***\n",
    "### Converting the generated ensemble (for visualization purposes)\n",
    "\n",
    "***\n",
    "**Building Blocks** used:\n",
    " - [cpptraj_convert](https://biobb-analysis.readthedocs.io/en/latest/ambertools.html#module-ambertools.cpptraj_convert) from **biobb_analysis.ambertools.cpptraj_convert**\n",
    "***"
   ]
  },
  {
   "cell_type": "code",
   "execution_count": null,
   "metadata": {
    "scrolled": true
   },
   "outputs": [],
   "source": [
    "from biobb_analysis.ambertools.cpptraj_convert import cpptraj_convert\n",
    "\n",
    "imods_trr = pdbCode + '_imods_ensemble.trr'\n",
    "\n",
    "prop = {\n",
    "    'mask' : 'c-alpha',\n",
    "    'format': 'trr'\n",
    "}\n",
    "\n",
    "cpptraj_convert(input_top_path=imc_pdb,\n",
    "                input_traj_path=imc_pdb,\n",
    "                output_cpptraj_path=imods_trr,\n",
    "                properties=prop)"
   ]
  },
  {
   "cell_type": "markdown",
   "metadata": {},
   "source": [
    "***\n",
    "### Visualizing the generated ensemble (as a trajectory)\n",
    "***"
   ]
  },
  {
   "cell_type": "code",
   "execution_count": null,
   "metadata": {},
   "outputs": [],
   "source": [
    "# Show trajectory\n",
    "view = nglview.show_simpletraj(nglview.SimpletrajTrajectory(imods_trr, prot_ca), gui=True)\n",
    "view.clear_representations()\n",
    "view.add_representation(repr_type='ball+stick', selection='all')\n",
    "view.center()\n",
    "view._remote_call('setSize', target='Widget', args=['','600px'])\n",
    "view"
   ]
  },
  {
   "cell_type": "markdown",
   "metadata": {},
   "source": [
    "<a id=\"metatraj\"></a>\n",
    "***\n",
    "## Meta-Trajectory & Clustering\n",
    "\n",
    "The generated **conformational ensembles** using the collection of **computational tools** can be used together  assembling a **meta-trajectory**. This **meta-trajectory** can then be **clusterized** to remove redundancies included in the structures. A meta-trajectory with results from different **computational methods** as different as the ones used in this **workflow** (Vibrational analysis, Coarse-grained molecular simulations, Atomistic intra-molecular interactions) can be helpful to enrich the **conformational sampling** and broadly populate the **conformational landscape**.    \n",
    "\n",
    "The next cells are generating a **meta-trajectory** from the set of **generated conformational ensembles**. Note that the ensembles used in this process need to be coherent on the **atomistic resolution** (they need to have the same **number of atoms**). As an example, if using **C-alpha only** structures, they all need to be **C-alpha only**. **Ensembles** used for the **meta-trajectory** creation can be easily modified in the next cell, commenting the lines of the unwanted files.  \n",
    "\n",
    "***\n",
    "\n",
    "### Building the meta-trajectory\n",
    "\n",
    "***\n",
    "**Building Blocks** used:\n",
    " - [trjcat](https://biobb-gromacs.readthedocs.io/en/latest/gromacs.html#module-gromacs.trjcat) from **biobb_gromacs.gromacs.trjcat**\n",
    "***"
   ]
  },
  {
   "cell_type": "code",
   "execution_count": null,
   "metadata": {},
   "outputs": [],
   "source": [
    "traj_zip = pdbCode + \"_concat_traj.zip\"\n",
    "\n",
    "with zipfile.ZipFile(traj_zip, 'w') as myzip:\n",
    "    myzip.write(concoord_trr)\n",
    "    myzip.write(prody_trr)\n",
    "    myzip.write(imods_trr)\n",
    "    #myzip.write(flexserv_bd_traj_fitted)\n",
    "    myzip.write(flexserv_dmd_traj_fitted)    \n",
    "    myzip.write(nma_trr)\n"
   ]
  },
  {
   "cell_type": "code",
   "execution_count": null,
   "metadata": {
    "scrolled": true
   },
   "outputs": [],
   "source": [
    "from biobb_gromacs.gromacs.trjcat import trjcat\n",
    "\n",
    "concat_trr = pdbCode + \"_concat_traj.trr\"\n",
    "\n",
    "trjcat(input_trj_zip_path=traj_zip,\n",
    "       output_trj_path=concat_trr)"
   ]
  },
  {
   "cell_type": "markdown",
   "metadata": {},
   "source": [
    "***\n",
    "### Clustering the meta-trajectory\n",
    "\n",
    "***\n",
    "**Building Blocks** used:\n",
    " - [make_ndx](https://biobb-gromacs.readthedocs.io/en/latest/gromacs.html#module-gromacs.make_ndx) from **biobb_gromacs.gromacs.make_ndx**\n",
    " - [gmx_cluster](https://biobb-analysis.readthedocs.io/en/latest/gromacs.html#module-gromacs.gmx_cluster) from **biobb_analysis.gromacs.gmx_cluster** \n",
    "***"
   ]
  },
  {
   "cell_type": "code",
   "execution_count": null,
   "metadata": {
    "scrolled": true
   },
   "outputs": [],
   "source": [
    "from biobb_gromacs.gromacs.make_ndx import make_ndx\n",
    "\n",
    "gmx_index_file = pdbCode + \"_gmx_ndx.ndx\"\n",
    "\n",
    "prop = { 'selection': 3 }\n",
    "\n",
    "make_ndx(input_structure_path=prot_ca,\n",
    "         output_ndx_path=gmx_index_file,\n",
    "         properties=prop)"
   ]
  },
  {
   "cell_type": "code",
   "execution_count": null,
   "metadata": {},
   "outputs": [],
   "source": [
    "from biobb_analysis.gromacs.gmx_cluster import gmx_cluster\n",
    "\n",
    "cluster_concat_pdb = pdbCode + \"_concat_cluster.pdb\"\n",
    "\n",
    "prop = {\n",
    "    'fit_selection': 'System',\n",
    "    'output_selection': 'System',\n",
    "    'method': 'linkage',\n",
    "    'cutoff': 0.12 # (0.12 nm = 1.2 Angstroms) \n",
    "    #'cutoff': 0.15 # (0.15 nm = 1.5 Angstroms) \n",
    "}\n",
    "\n",
    "gmx_cluster(input_structure_path=prot_ca,\n",
    "            input_traj_path=concat_trr,\n",
    "            input_index_path=gmx_index_file,\n",
    "            output_pdb_path=cluster_concat_pdb,\n",
    "            properties=prop)"
   ]
  },
  {
   "cell_type": "markdown",
   "metadata": {},
   "source": [
    "***\n",
    "### Visualizing the generated ensemble (cluster)\n",
    "***"
   ]
  },
  {
   "cell_type": "code",
   "execution_count": null,
   "metadata": {},
   "outputs": [],
   "source": [
    "# Show protein\n",
    "view = nglview.show_structure_file(cluster_concat_pdb, default_representation=False)\n",
    "view.add_representation(repr_type='tube', selection='all', color='modelindex')\n",
    "view._remote_call('setSize', target='Widget', args=['','600px'])\n",
    "view"
   ]
  },
  {
   "cell_type": "markdown",
   "metadata": {},
   "source": [
    "<a id=\"flexibility\"></a>\n",
    "***\n",
    "## Macromolecular Flexibility Analyses\n",
    "\n",
    "Once the final **ensemble** (meta-trajectory) is generated, it can be used to extract **flexibility/dynamic** patterns. A large variety of methods to **characterize flexibility** exist. In this **workflow**, the global movements of the structure will be analysed using **Essential Dynamics** (ED) routines (Amadei, et al., 1993), based in the well-known **Principal Components Analyisis** (PCA) statistical method.\n",
    "\n",
    "Other advanced tools allow the determination of **dynamic domains** and **hinge points** using a variety of techniques: i) exploration of the B-factor landscape after fitting with the gaussian RMSd method, ii) analysis of the force-constant profile (Sacquin-Mora and Lavery, 2006) and iii) clustering by inter-residue correlation (Navizet, et al., 2004). \n",
    "\n",
    "In all the analysis the resulting data is presented as a **json-formatted files**, and **2D plots** are generated when appropriate."
   ]
  },
  {
   "cell_type": "markdown",
   "metadata": {},
   "source": [
    "<a id=\"pca\"></a>\n",
    "***\n",
    "### Principal Component Analysis\n",
    "\n",
    "**Principal Component Analysis** is extensively used to characterize the most important **deformation modes** obtained by **diagonalization** of the **trajectory covariance matrix**. The **eigenvectors** represent the nature of the **essential deformation patterns**, while the **eigenvalues** can be transformed into the **frequencies** or **stiffness** of these movements. **Essential deformation movements** are ranked by importance and can be visualized and processed to obtain information (see Meyer, et al., 2006; Rueda, et al., 2007a for a detailed explanation), such as **B-Factor profiles**, the **collectivity index** (a measure of the collective nature of protein motions, Brüschweiler, 1995), the **variance profile**, the **dimensionality** (the number of movements defining a percentage of variance), or the **size of the essential space** (the number of modes with eigenvalues > 1 Å²). \n",
    "\n",
    "From the many available tools able to compute **PCA analysis** with **macromolecular data** (atomistic 3D coordinates), the **workflow** is using the **[pcasuite package](https://mmb.irbbarcelona.org/software/pcasuite/)**, integrated in the **BioBB library**. \n"
   ]
  },
  {
   "cell_type": "markdown",
   "metadata": {},
   "source": [
    "***\n",
    "### Fitting and converting the generated ensemble (meta-trajectory) (for visualization purposes)\n",
    "\n",
    "***\n",
    "**Building Blocks** used:\n",
    " - [cpptraj_rms](https://biobb-analysis.readthedocs.io/en/latest/ambertools.html#module-ambertools.cpptraj_rms) from **biobb_analysis.ambertools.cpptraj_rms**\n",
    "***"
   ]
  },
  {
   "cell_type": "code",
   "execution_count": null,
   "metadata": {},
   "outputs": [],
   "source": [
    "from biobb_analysis.ambertools.cpptraj_rms import cpptraj_rms\n",
    "\n",
    "meta_traj_rmsd = pdbCode + \"_meta_traj_rmsd.dat\" \n",
    "meta_traj_fitted = pdbCode + \"_meta_traj_fitted.crd\"\n",
    "\n",
    "prop = {\n",
    "    'start': 1,\n",
    "    'end': -1,\n",
    "    'steps': 1,\n",
    "    'mask': 'c-alpha',\n",
    "    'reference': 'experimental'\n",
    "}\n",
    "cpptraj_rms(input_top_path=prot_ca,\n",
    "            input_traj_path=cluster_concat_pdb,\n",
    "            output_cpptraj_path=meta_traj_rmsd,\n",
    "            output_traj_path=meta_traj_fitted,\n",
    "            input_exp_path= prot_ca,\n",
    "            properties=prop)"
   ]
  },
  {
   "cell_type": "markdown",
   "metadata": {},
   "source": [
    "***\n",
    "### Computing the Principal Component Analysis (PCA)\n",
    "***\n",
    "\n",
    "**Building Block** used:\n",
    "\n",
    " - [pcz_zip](https://biobb-flexserv.readthedocs.io/en/latest/pcasuite.html#module-pcasuite.pcz_zip) from **biobb_flexserv.pcasuite.pcz_zip** \n"
   ]
  },
  {
   "cell_type": "code",
   "execution_count": null,
   "metadata": {},
   "outputs": [],
   "source": [
    "from biobb_flexserv.pcasuite.pcz_zip import pcz_zip\n",
    "\n",
    "concat_pcz = pdbCode + '_concat_ensemble.pcz'\n",
    "concat_pcz_gaussian = pdbCode + '_concat_ensemble_gaussian.pcz'\n",
    "\n",
    "# Classical RMSd fitting\n",
    "prop = {\n",
    "    'variance': 90,\n",
    "    'neigenv' : 10\n",
    "}\n",
    "\n",
    "pcz_zip( input_pdb_path=prot_ca,\n",
    "        input_crd_path=meta_traj_fitted,\n",
    "        output_pcz_path=concat_pcz,\n",
    "        properties=prop)\n",
    "\n",
    "# Gaussian (weighted) RMSd fitting\n",
    "prop = {\n",
    "    'variance': 90,\n",
    "    'neigenv' : 10,\n",
    "    'gauss_rmsd' : True\n",
    "}\n",
    "\n",
    "pcz_zip( input_pdb_path=prot_ca,\n",
    "        input_crd_path=meta_traj_fitted,\n",
    "        output_pcz_path=concat_pcz_gaussian,\n",
    "        properties=prop)"
   ]
  },
  {
   "cell_type": "markdown",
   "metadata": {},
   "source": [
    "***\n",
    "### Analysing the PCA report\n",
    "***\n",
    "\n",
    "The result of the **PCA analysis** is the generation of a set of **eigenvectors** (the modes or the principal components), which describe the nature of the **deformation movements** of the protein and a set of **eigenvalues**, which indicate the **stiffness** associated to every **mode**. \n",
    "\n",
    "The **eigenvectors** appear ranked after a **principal component analysis**, the first one is that explaining the **largest part of the variance** (as indicated by the associated **eigenvalue**). Since the **eigenvectors** represent a full-basis set, the **original Cartesian trajectory** can be always **projected** into the **eigenvectors space**, without lost of information. Furthermore, if a restricted set of **eigenvectors** is used, information is lost, but the level of error introduced in the simplification is always on user-control by considering the **annihilated variance** (the residual value between the **variance explained** by the set of the **eigenvectors** considered and the **total variance**).\n",
    "\n",
    "**Essential information** extracted from the **PCA analysis** can be retrieved from a **pcz file** with the **pcz_info building block**. Information such as **eigenvalues, number of eigenvectors, total variance, explained variance, quality or dimensionality** are included in the **PCA report**.  \n",
    "\n",
    "\n",
    "**Building Block** used:\n",
    " \n",
    " - [pcz_info](https://biobb-flexserv.readthedocs.io/en/latest/pcasuite.html#module-pcasuite.pcz_info) from **biobb_flexserv.pcasuite.pcz_info** "
   ]
  },
  {
   "cell_type": "code",
   "execution_count": null,
   "metadata": {
    "scrolled": true
   },
   "outputs": [],
   "source": [
    "from biobb_flexserv.pcasuite.pcz_info import pcz_info\n",
    "\n",
    "pcz_report = pdbCode + \"_pcz_report.json\"\n",
    "\n",
    "pcz_info( \n",
    "    input_pcz_path=concat_pcz,\n",
    "    output_json_path=pcz_report\n",
    ")"
   ]
  },
  {
   "cell_type": "markdown",
   "metadata": {},
   "source": [
    "***\n",
    "### Plotting Variance Profile\n",
    "***\n",
    "\n",
    "The following plot shows the **total variance** of the trajectory and how it is **distributed** along the different **eigenvectors**. **Variance** appears in Å² and **eigenvectors** are shown according to **eigenvalues** descending order, the first one being the **most important** one and the last that with the **lower contribution to variance**. This graph indicates the **size of the flexibility space** (the higher the variance, the higher the flexibility) and how it is distributed in different **modes**."
   ]
  },
  {
   "cell_type": "code",
   "execution_count": null,
   "metadata": {},
   "outputs": [],
   "source": [
    "with open(pcz_report, 'r') as f:\n",
    "  pcz_info = json.load(f)\n",
    "print(json.dumps(pcz_info, indent=2))"
   ]
  },
  {
   "cell_type": "code",
   "execution_count": null,
   "metadata": {},
   "outputs": [],
   "source": [
    "# Plotting Variance Profile\n",
    "y = np.array(pcz_info['Eigen_Values'])\n",
    "x = list(range(1,len(y)+1))\n",
    "\n",
    "plotly.offline.init_notebook_mode(connected=True)\n",
    "\n",
    "fig = {\n",
    "    \"data\": [go.Scatter(x=x, y=y)],\n",
    "    \"layout\": go.Layout(title=\"Variance Profile\",\n",
    "                        xaxis=dict(title = \"Principal Component\"),\n",
    "                        yaxis=dict(title = \"Variance\")\n",
    "                       )\n",
    "}\n",
    "\n",
    "plotly.offline.iplot(fig)"
   ]
  },
  {
   "cell_type": "markdown",
   "metadata": {},
   "source": [
    "***\n",
    "### Plotting Dimensionality/quality profile\n",
    "***\n",
    "\n",
    "The following plot shows the **percentage** of **explained variance** for a given number of **eigenvectors** (quality) and the **dimensionality** of the sampled space. This graph indicates the **complexity of the flexibility space**, i.e. how many **modes** are necessary to explain the **entire flexibility** of the protein. \n",
    "\n",
    "Note that this plot and the previous one provide **physically-different** information and that proteins might display a very **complex pattern of flexibility** (leading to **large dimensionality**) and at the same time be **quite rigid** (**low variance**), or have a **large variance** which can be fully explained by a very **small number of modes**."
   ]
  },
  {
   "cell_type": "code",
   "execution_count": null,
   "metadata": {},
   "outputs": [],
   "source": [
    "# Plotting Dimensionality/quality profile\n",
    "y = np.array(pcz_info['Eigen_Values_dimensionality_vs_total'])\n",
    "x = list(range(1,len(y)+1))\n",
    "\n",
    "plotly.offline.init_notebook_mode(connected=True)\n",
    "\n",
    "fig = {\n",
    "    \"data\": [go.Scatter(x=x, y=y)],\n",
    "    \"layout\": go.Layout(title=\"Dimensionality/Quality profile\",\n",
    "                        xaxis=dict(title = \"Principal Component\"),\n",
    "                        yaxis=dict(title = \"Accumulated Quality (%)\")\n",
    "                       )\n",
    "}\n",
    "\n",
    "plotly.offline.iplot(fig)"
   ]
  },
  {
   "cell_type": "markdown",
   "metadata": {},
   "source": [
    "***\n",
    "### PCA Eigenvectors & Eigenvalues \n",
    "***\n",
    "\n",
    "As stated above, the generated set of **eigenvectors** (the modes or the principal components) describe the nature of the **deformation movements** of the protein, whereas the **eigenvalues** indicate the **stiffness** associated to every **mode**. Inspection of the **atomic components** of **eigenvalues** associated to the most important **eigenvectors** helps to determine the **contribution** of different residues to the **key essential deformations** of the protein.\n",
    "\n",
    "The **pcz_evecs** building block returns the **atomic components** of the **eigenvalue** associated to a given **eigenvector**. \n",
    "\n",
    "***\n",
    "**Building Blocks** used:\n",
    " - [pcz_evecs](https://biobb-flexserv.readthedocs.io/en/latest/pcasuite.html#module-pcasuite.pcz_evecs) from **biobb_flexserv.pcasuite.pcz_evecs**\n",
    "***"
   ]
  },
  {
   "cell_type": "code",
   "execution_count": null,
   "metadata": {},
   "outputs": [],
   "source": [
    "from biobb_flexserv.pcasuite.pcz_evecs import pcz_evecs\n",
    "\n",
    "pcz_evecs_report = pdbCode + \"_pcz_evecs.json\"\n",
    "\n",
    "prop = {\n",
    "    'eigenvector': 1\n",
    "}\n",
    "\n",
    "pcz_evecs( \n",
    "        input_pcz_path=concat_pcz,\n",
    "        output_json_path=pcz_evecs_report,\n",
    "        properties=prop)"
   ]
  },
  {
   "cell_type": "markdown",
   "metadata": {},
   "source": [
    "***\n",
    "### Plotting Eigenvalue Residue Components \n",
    "\n",
    "Showing the **contribution** of different residues to the **key essential deformations** of the protein. The plot is displaying the **residue contributions** along the **first principal component**. The **eigenvector property** from the previous cell can be changed to explore the different **principal components**. \n",
    "***"
   ]
  },
  {
   "cell_type": "code",
   "execution_count": null,
   "metadata": {},
   "outputs": [],
   "source": [
    "with open(pcz_evecs_report, 'r') as f:\n",
    "  pcz_evecs_report_json = json.load(f)\n",
    "print(json.dumps(pcz_evecs_report_json, indent=2))"
   ]
  },
  {
   "cell_type": "code",
   "execution_count": null,
   "metadata": {},
   "outputs": [],
   "source": [
    "# Plotting Eigen Value Residue Components\n",
    "y = np.array(pcz_evecs_report_json['projs'])\n",
    "x = list(range(1,len(y)+1))\n",
    "\n",
    "plotly.offline.init_notebook_mode(connected=True)\n",
    "\n",
    "fig = {\n",
    "    \"data\": [go.Bar(x=x, y=y)],\n",
    "    \"layout\": go.Layout(title=\"Eigen Value Residue Components\",\n",
    "                        xaxis=dict(title = \"Residue Number\"),\n",
    "                        yaxis=dict(title = \"\\u00C5\")\n",
    "                       )\n",
    "}\n",
    "\n",
    "plotly.offline.iplot(fig)"
   ]
  },
  {
   "cell_type": "markdown",
   "metadata": {},
   "source": [
    "### Animate Principal Components\n",
    "\n",
    "**Motions** described by the **eigenvectors** can be visualized by **projecting** the trajectory onto a given **eigenvector** and taking the **2 extreme projections** and **interpolating** between them to create an **animation**. This type of **visualization** is extremely popular as it allows a graphical an easy way to identify the **essential deformation movements** in macromolecules.\n",
    "\n",
    "The **pcz_animate** building block generates the **animation** of the **macromolecule** for a given **eigenvector**. \n",
    "\n",
    "***\n",
    "**Building Blocks** used:\n",
    " - [pcz_animate](https://biobb-flexserv.readthedocs.io/en/latest/pcasuite.html#module-pcasuite.pcz_animate) from **biobb_flexserv.pcasuite.pcz_animate**\n",
    "***"
   ]
  },
  {
   "cell_type": "code",
   "execution_count": null,
   "metadata": {},
   "outputs": [],
   "source": [
    "from biobb_flexserv.pcasuite.pcz_animate import pcz_animate\n",
    "\n",
    "proj1 = pdbCode + \"_pcz_proj1.crd\"\n",
    "\n",
    "prop = {\n",
    "    'eigenvector': 1  # Try changing the eigenvector number!\n",
    "}\n",
    "\n",
    "pcz_animate( input_pcz_path=concat_pcz,\n",
    "        output_crd_path=proj1,\n",
    "        properties=prop)"
   ]
  },
  {
   "cell_type": "markdown",
   "metadata": {},
   "source": [
    "***\n",
    "### Converting the generated ensemble (for visualization purposes)\n",
    "\n",
    "***\n",
    "**Building Blocks** used:\n",
    " - [cpptraj_convert](https://biobb-analysis.readthedocs.io/en/latest/ambertools.html#module-ambertools.cpptraj_convert) from **biobb_analysis.ambertools.cpptraj_convert**\n",
    "***"
   ]
  },
  {
   "cell_type": "code",
   "execution_count": null,
   "metadata": {
    "scrolled": true
   },
   "outputs": [],
   "source": [
    "from biobb_analysis.ambertools.cpptraj_convert import cpptraj_convert\n",
    "\n",
    "proj1_dcd = pdbCode + '_pcz_proj1.dcd'\n",
    "\n",
    "prop = {\n",
    "    'format': 'dcd'\n",
    "}\n",
    "\n",
    "cpptraj_convert(input_top_path=prot_ca,\n",
    "                input_traj_path=proj1,\n",
    "                output_cpptraj_path=proj1_dcd,\n",
    "                properties=prop)"
   ]
  },
  {
   "cell_type": "markdown",
   "metadata": {},
   "source": [
    "***\n",
    "### Visualizing the generated ensemble (as a trajectory)\n",
    "***"
   ]
  },
  {
   "cell_type": "code",
   "execution_count": null,
   "metadata": {},
   "outputs": [],
   "source": [
    "# Show trajectory\n",
    "view = nglview.show_simpletraj(nglview.SimpletrajTrajectory(proj1_dcd, prot_ca), gui=True)\n",
    "#view.add_representation(repr_type='spacefill', radius=0.7, selection='all')\n",
    "view.add_representation(repr_type='surface', selection='all')\n",
    "view.center()\n",
    "view._remote_call('setSize', target='Widget', args=['','600px'])\n",
    "view"
   ]
  },
  {
   "cell_type": "markdown",
   "metadata": {},
   "source": [
    "<a id=\"bfactor\"></a>\n",
    "***\n",
    "## B-Factor x Principal Components\n",
    " \n",
    "The **B-factor** is the standard measure of **residue/atom flexibility**. It is determined from the **oscillations** of a **residue** with respect to its **equilibrium position**:\n",
    "\n",
    "**B-factor** profiles represent the distribution of residue **harmonic oscillations**. They can be compared with **X-ray data**, but caution is needed, since crystal **lattice effects** tend to **rigidify** exposed protein residues. Very large **B-factors** should be taken with caution since indicate very **flexible residues** that might display **conformational changes** along the trajectory, which is difficult to follow within the **harmonic approximation** implicit to **B-factor** analysis.\n",
    "\n",
    "The generated **PDB file** can be used to plot an **animation** of the **protein backbone** coloured by the **B-factor** corresponding to the selected **Principal Component**. Such visualization makes easier to evaluate which **region of the protein** is involved in the movement. \n",
    "\n",
    "The **pcz_bfactor** building block returns the **B-factor** values associated to a given **eigenvector**. \n",
    "\n",
    "***\n",
    "**Building Blocks** used:\n",
    " - [pcz_bfactor](https://biobb-flexserv.readthedocs.io/en/latest/pcasuite.html#module-pcasuite.pcz_bfactor) from **biobb_flexserv.pcasuite.pcz_bfactor**\n",
    "***"
   ]
  },
  {
   "cell_type": "code",
   "execution_count": null,
   "metadata": {},
   "outputs": [],
   "source": [
    "from biobb_flexserv.pcasuite.pcz_bfactor import pcz_bfactor\n",
    "\n",
    "bfactor_all_dat = pdbCode + \"_bfactor_all.dat\"\n",
    "bfactor_all_pdb = pdbCode + \"_bfactor_all.pdb\"\n",
    "\n",
    "prop = {\n",
    "    'eigenvector': 0,\n",
    "    'pdb': True\n",
    "}\n",
    "\n",
    "pcz_bfactor( \n",
    "    input_pcz_path=concat_pcz,\n",
    "    output_dat_path=bfactor_all_dat,\n",
    "    output_pdb_path=bfactor_all_pdb,\n",
    "    properties=prop\n",
    ")"
   ]
  },
  {
   "cell_type": "markdown",
   "metadata": {},
   "source": [
    "***\n",
    "### Plotting B-factors x Residue x PCA mode\n",
    "***"
   ]
  },
  {
   "cell_type": "code",
   "execution_count": null,
   "metadata": {},
   "outputs": [],
   "source": [
    "# Plotting the B-factors x Residue x PCA mode\n",
    "y = np.loadtxt(bfactor_all_dat)\n",
    "x = list(range(1,len(y)+1))\n",
    "\n",
    "plotly.offline.init_notebook_mode(connected=True)\n",
    "\n",
    "fig = {\n",
    "    \"data\": [go.Scatter(x=x, y=y)],\n",
    "    \"layout\": go.Layout(title=\"Bfactor x Residue x PCA Modes (All)\",\n",
    "                        xaxis=dict(title = \"Residue Number\"),\n",
    "                        yaxis=dict(title = \"Bfactor (\" + '\\u00C5' +'\\u00B2' + \")\")\n",
    "                       )\n",
    "}\n",
    "\n",
    "plotly.offline.iplot(fig)"
   ]
  },
  {
   "cell_type": "markdown",
   "metadata": {},
   "source": [
    "***\n",
    "### Visualizing the B-factor along the first principal component \n",
    "***\n",
    "\n",
    "Visualizing the **trajectory** highlighting the **residues** with higher **B-factor** values, the most **flexible residues** of the protein."
   ]
  },
  {
   "cell_type": "code",
   "execution_count": null,
   "metadata": {},
   "outputs": [],
   "source": [
    "# Show trajectory\n",
    "view = nglview.show_simpletraj(nglview.SimpletrajTrajectory(proj1_dcd, bfactor_all_pdb))\n",
    "view.add_representation(repr_type='spacefill', selection='all', colorScheme='bfactor')\n",
    "view.add_representation(repr_type='tube', radius='0.4', selection='all', color='white')\n",
    "view._remote_call('setSize', target='Widget', args=['','600px'])\n",
    "\n",
    "stop = False\n",
    "def loop(view):\n",
    "    import time\n",
    "    def do():\n",
    "        while True and not stop:\n",
    "            if view.frame == view.max_frame:\n",
    "                direction = -1\n",
    "            if view.frame == 0:\n",
    "                direction = 1\n",
    "            view.frame = view.frame + direction\n",
    "            time.sleep(0.2)\n",
    "    view._run_on_another_thread(do)\n",
    "        \n",
    "#view.on_displayed(loop)\n",
    "\n",
    "#view._iplayer.children[0].disabled = True\n",
    "#view._iplayer.children[1].disabled = True\n",
    "\n",
    "view"
   ]
  },
  {
   "cell_type": "markdown",
   "metadata": {},
   "source": [
    "<a id=\"hinges\"></a>\n",
    "***\n",
    "## Hinge Points Prediction\n",
    "\n",
    "**Hinge point detection** is a process to determine residues around which **large protein movements** are organized. Analysis implemented in the **biobb_flexserv module** can be performed using **three different methodologies**: *B-Factor slope change method*, *Force constant method* and *Dynamic domain detection method*.\n",
    "\n",
    "The **pcz_hinges** building block computes the **hinge points** of the **macromolecules** associated to a given **eigenvector**. \n",
    "\n",
    "***\n",
    "**Building Blocks** used:\n",
    " - [pcz_hinges](https://biobb-flexserv.readthedocs.io/en/latest/pcasuite.html#module-pcasuite.pcz_hinges) from **biobb_flexserv.pcasuite.pcz_hinges**\n",
    "***"
   ]
  },
  {
   "cell_type": "code",
   "execution_count": null,
   "metadata": {},
   "outputs": [],
   "source": [
    "from biobb_flexserv.pcasuite.pcz_hinges import pcz_hinges\n",
    "\n",
    "hinges_bfactor_report = pdbCode + \"_hinges_bfactor_report.json\"\n",
    "hinges_dyndom_report = pdbCode + \"_hinges_dyndom_report.json\"\n",
    "hinges_fcte_report = pdbCode + \"_hinges_fcte_report.json\"\n",
    "\n",
    "bfactor_method = \"Bfactor_slope\"\n",
    "dyndom_method = \"Dynamic_domain\"\n",
    "fcte_method = \"Force_constant\"\n",
    "\n",
    "bfactor_prop = {\n",
    "    'eigenvector': 0, # 0 = All modes\n",
    "    'method': bfactor_method\n",
    "}\n",
    "\n",
    "dyndom_prop = {\n",
    "    'eigenvector': 0, # 0 = All modes\n",
    "    'method': dyndom_method\n",
    "}\n",
    "\n",
    "fcte_prop = {\n",
    "    'eigenvector': 0, # 0 = All modes\n",
    "    'method': fcte_method\n",
    "}\n",
    "\n",
    "pcz_hinges( \n",
    "        input_pcz_path=concat_pcz_gaussian,\n",
    "        output_json_path=hinges_bfactor_report,\n",
    "        properties=bfactor_prop\n",
    ")\n",
    "\n",
    "pcz_hinges( \n",
    "        input_pcz_path=concat_pcz_gaussian,\n",
    "        output_json_path=hinges_dyndom_report,\n",
    "        properties=dyndom_prop\n",
    ")\n",
    "\n",
    "pcz_hinges( \n",
    "        input_pcz_path=concat_pcz_gaussian,\n",
    "        output_json_path=hinges_fcte_report,\n",
    "        properties=fcte_prop\n",
    ")"
   ]
  },
  {
   "cell_type": "markdown",
   "metadata": {},
   "source": [
    "***\n",
    "### Visualizing the hinge points predictions\n",
    "***"
   ]
  },
  {
   "cell_type": "code",
   "execution_count": null,
   "metadata": {
    "scrolled": true
   },
   "outputs": [],
   "source": [
    "with open(hinges_bfactor_report, 'r') as f:\n",
    "  hinges_bfactor = json.load(f)\n",
    "print(json.dumps(hinges_bfactor, indent=2))\n",
    "\n",
    "with open(hinges_dyndom_report, 'r') as f:\n",
    "  hinges_dyndom = json.load(f)\n",
    "print(json.dumps(hinges_dyndom, indent=2))\n",
    "\n",
    "with open(hinges_fcte_report, 'r') as f:\n",
    "  hinges_fcte = json.load(f)\n",
    "print(json.dumps(hinges_fcte, indent=2))"
   ]
  },
  {
   "cell_type": "code",
   "execution_count": null,
   "metadata": {},
   "outputs": [],
   "source": [
    "# Show trajectory\n",
    "view1 = nglview.show_simpletraj(nglview.SimpletrajTrajectory(proj1_dcd, bfactor_all_pdb), gui=True)\n",
    "view1.add_representation(repr_type='surface', selection=hinges_dyndom[\"clusters\"][0][\"residues\"], color='red')\n",
    "view1.add_representation(repr_type='surface', selection=hinges_dyndom[\"clusters\"][1][\"residues\"], color='green')\n",
    "#view1.add_representation(repr_type='surface', selection=hinges_dyndom[\"clusters\"][2][\"residues\"], color='yellow')\n",
    "#view1.add_representation(repr_type='surface', selection=hinges_dyndom[\"hinge_residues\"], color='red')\n",
    "view1._remote_call('setSize', target='Widget', args=['350px','350px'])\n",
    "view1\n",
    "view2 = nglview.show_simpletraj(nglview.SimpletrajTrajectory(proj1_dcd, bfactor_all_pdb), gui=True)\n",
    "view2.add_representation(repr_type='surface', selection=hinges_bfactor[\"hinge_residues\"], color='red')\n",
    "view2._remote_call('setSize', target='Widget', args=['350px','350px'])\n",
    "view2\n",
    "view3 = nglview.show_simpletraj(nglview.SimpletrajTrajectory(proj1_dcd, bfactor_all_pdb), gui=True)\n",
    "view3.add_representation(repr_type='surface', selection=str(hinges_fcte[\"hinge_residues\"]), color='red')    \n",
    "view3._remote_call('setSize', target='Widget', args=['350px','350px'])\n",
    "view3\n",
    "ipywidgets.HBox([view1, view2, view3])"
   ]
  },
  {
   "cell_type": "code",
   "execution_count": null,
   "metadata": {},
   "outputs": [],
   "source": [
    "from biobb_flexserv.pcasuite.pcz_stiffness import pcz_stiffness\n",
    "\n",
    "stiffness_report = pdbCode + \"_pcz_stiffness.json\"\n",
    "\n",
    "prop = {\n",
    "    'eigenvector': 0 # 0 = All modes\n",
    "}\n",
    "\n",
    "pcz_stiffness( \n",
    "        input_pcz_path=concat_pcz,\n",
    "        output_json_path=stiffness_report,\n",
    "        properties=prop\n",
    ")"
   ]
  },
  {
   "cell_type": "markdown",
   "metadata": {},
   "source": [
    "<a id=\"stiffness\"></a>\n",
    "***\n",
    "## Apparent Stiffness\n",
    "\n",
    "**Stiffness** is defined as the **force-constant** acting between **two residues** in the case of completely disconnected oscillators. The index helps to detect **strong interactions between residues**, which might indicate physically-intense **direct contacts** or **strong chain-related interactions**. Results are usually plot as a **2D NxN heatmap plot** (with N being the number of residues).\n",
    "\n",
    "The **pcz_stiffness** building block returns the **stiffness** force-constants associated to a given **eigenvector**. \n",
    "\n",
    "***\n",
    "**Building Blocks** used:\n",
    " - [pcz_stiffness](https://biobb-flexserv.readthedocs.io/en/latest/pcasuite.html#pcasuite-pcz-stiffness-module) from **biobb_flexserv.pcasuite.pcz_stiffness**\n",
    "***\n",
    "***"
   ]
  },
  {
   "cell_type": "markdown",
   "metadata": {},
   "source": [
    "***\n",
    "### Plotting the Apparent Stiffness matrix\n",
    "***"
   ]
  },
  {
   "cell_type": "code",
   "execution_count": null,
   "metadata": {
    "scrolled": true
   },
   "outputs": [],
   "source": [
    "with open(stiffness_report, 'r') as f:\n",
    "  pcz_stiffness_report = json.load(f)\n",
    "print(json.dumps(pcz_stiffness_report, indent=2))"
   ]
  },
  {
   "cell_type": "code",
   "execution_count": null,
   "metadata": {},
   "outputs": [],
   "source": [
    "y = np.array(pcz_stiffness_report['stiffness'])\n",
    "x = list(range(1,len(y)))\n",
    "\n",
    "plotly.offline.init_notebook_mode(connected=True)\n",
    "\n",
    "fig = {\n",
    "    \"data\": [go.Heatmap(x=x, y=x, z=y, type = 'heatmap', colorscale = 'reds')],\n",
    "    \"layout\": go.Layout(title=\"Apparent Stiffness\",\n",
    "                        xaxis=dict(title = \"Residue Number\"),\n",
    "                        yaxis=dict(title = \"Residue Number\"),\n",
    "                        width=800, height=800\n",
    "                       )\n",
    "}\n",
    "\n",
    "plotly.offline.iplot(fig)"
   ]
  },
  {
   "cell_type": "markdown",
   "metadata": {},
   "source": [
    "***\n",
    "### Plotting the Apparent Stiffness matrix (Logarithmic Scale)\n",
    "***"
   ]
  },
  {
   "cell_type": "code",
   "execution_count": null,
   "metadata": {},
   "outputs": [],
   "source": [
    "y = np.array(pcz_stiffness_report['stiffness_log'])\n",
    "x = list(range(1,len(y)))\n",
    "\n",
    "plotly.offline.init_notebook_mode(connected=True)\n",
    "\n",
    "fig = {\n",
    "    \"data\": [go.Heatmap(x=x, y=x, z=y, type = 'heatmap', colorscale = 'reds')],\n",
    "    \"layout\": go.Layout(title=\"Apparent Stiffness (Logarithmic Scale)\",\n",
    "                        xaxis=dict(title = \"Residue Number\"),\n",
    "                        yaxis=dict(title = \"Residue Number\"),\n",
    "                        width=800, height=800\n",
    "                       )\n",
    "}\n",
    "\n",
    "plotly.offline.iplot(fig)"
   ]
  },
  {
   "cell_type": "markdown",
   "metadata": {},
   "source": [
    "<a id=\"collectivity\"></a>\n",
    "***\n",
    "## Collectivity Index\n",
    "\n",
    "**Collectivity index** is a numerical measure of **how many atoms are affected by a given mode** (see the work by Rafael Brüschweiler: [Collective protein dynamics and nuclear spin relaxation](https://doi.org/10.1063/1.469213)).\n",
    "\n",
    "The **pcz_collectivity** building block returns the **collectivity index** of the **macromolecule** associated to a given **eigenvector**. \n",
    "\n",
    "***\n",
    "**Building Blocks** used:\n",
    " - [pcz_collectivity](https://biobb-flexserv.readthedocs.io/en/latest/flexserv.html#module-pcasuite.pcz_collectivity) from **biobb_flexserv.pcasuite.pcz_collectivity**\n",
    "***\n",
    "***"
   ]
  },
  {
   "cell_type": "code",
   "execution_count": null,
   "metadata": {},
   "outputs": [],
   "source": [
    "from biobb_flexserv.pcasuite.pcz_collectivity import pcz_collectivity\n",
    "\n",
    "pcz_collectivity_report = pdbCode + \"_pcz_collectivity.json\"\n",
    "\n",
    "prop = {\n",
    "    'eigenvector':0 # 0 = All modes\n",
    "}\n",
    "\n",
    "pcz_collectivity( \n",
    "    input_pcz_path=concat_pcz,\n",
    "    output_json_path=pcz_collectivity_report,\n",
    "    properties=prop\n",
    ")"
   ]
  },
  {
   "cell_type": "markdown",
   "metadata": {},
   "source": [
    "***\n",
    "### Plotting the Collectivity indexes associated to the first 10 PCA modes \n",
    "***"
   ]
  },
  {
   "cell_type": "code",
   "execution_count": null,
   "metadata": {},
   "outputs": [],
   "source": [
    "with open(pcz_collectivity_report, 'r') as f:\n",
    "  pcz_collectivity_report_json = json.load(f)\n",
    "print(json.dumps(pcz_collectivity_report_json, indent=2))"
   ]
  },
  {
   "cell_type": "code",
   "execution_count": null,
   "metadata": {},
   "outputs": [],
   "source": [
    "z = np.array(pcz_collectivity_report_json['collectivity'])\n",
    "x = list(range(1,len(z)+1))\n",
    "x = [\"PC\" + str(pc) for pc in x]\n",
    "\n",
    "y = [\"\"]\n",
    "\n",
    "plotly.offline.init_notebook_mode(connected=True)\n",
    "\n",
    "fig = {\n",
    "    \"data\": [go.Heatmap(x=x, y=y, z=[z], type = 'heatmap', colorscale = 'reds')],\n",
    "    \"layout\": go.Layout(title=\"Collectivity Index\",\n",
    "                        xaxis=dict(title = \"Principal Component\"),\n",
    "                        yaxis=dict(title = \"Collectivity\"),\n",
    "                        width=1000, height=300\n",
    "                       )\n",
    "}\n",
    "\n",
    "plotly.offline.iplot(fig)"
   ]
  },
  {
   "cell_type": "markdown",
   "metadata": {},
   "source": [
    "***\n",
    "<a id=\"questions\"></a>\n",
    "\n",
    "## Questions & Comments\n",
    "\n",
    "Questions, issues, suggestions and comments are really welcome!\n",
    "\n",
    "* GitHub issues:\n",
    "    * [https://github.com/bioexcel/biobb](https://github.com/bioexcel/biobb)\n",
    "\n",
    "* BioExcel forum:\n",
    "    * [https://ask.bioexcel.eu/c/BioExcel-Building-Blocks-library](https://ask.bioexcel.eu/c/BioExcel-Building-Blocks-library)\n"
   ]
  },
  {
   "cell_type": "code",
   "execution_count": null,
   "metadata": {},
   "outputs": [],
   "source": []
  }
 ],
 "metadata": {
  "kernelspec": {
   "display_name": "Python 3 (ipykernel)",
   "language": "python",
   "name": "python3"
  },
  "language_info": {
   "codemirror_mode": {
    "name": "ipython",
    "version": 3
   },
   "file_extension": ".py",
   "mimetype": "text/x-python",
   "name": "python",
   "nbconvert_exporter": "python",
   "pygments_lexer": "ipython3",
   "version": "3.9.0"
  }
 },
 "nbformat": 4,
 "nbformat_minor": 4
}
